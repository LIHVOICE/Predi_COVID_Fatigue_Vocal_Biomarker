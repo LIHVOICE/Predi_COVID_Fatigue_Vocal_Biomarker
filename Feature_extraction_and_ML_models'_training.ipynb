{
 "cells": [
  {
   "cell_type": "code",
   "execution_count": 1,
   "metadata": {
    "colab": {
     "base_uri": "https://localhost:8080/"
    },
    "id": "7qrejH5lN94T",
    "outputId": "dd417b5d-b70d-49f2-90df-5591e797966d"
   },
   "outputs": [
    {
     "name": "stdout",
     "output_type": "stream",
     "text": [
      "Mounted at /content/drive/\n"
     ]
    }
   ],
   "source": [
    "from google.colab import drive \n",
    "drive.mount(\"/content/drive/\", force_remount=True)"
   ]
  },
  {
   "cell_type": "code",
   "execution_count": 28,
   "metadata": {
    "id": "PANFkRA9jT4d"
   },
   "outputs": [],
   "source": [
    "import pandas as pd\n",
    "import tensorflow\n",
    "import numpy as np\n",
    "np.random.seed(1) \n",
    "import matplotlib.pyplot as plt\n",
    "from tensorflow.keras.applications import VGG19\n",
    "from sklearn.model_selection import train_test_split\n",
    "from sklearn.metrics import confusion_matrix, classification_report, plot_confusion_matrix, accuracy_score\n",
    "from sklearn.metrics import roc_auc_score, roc_curve\n",
    "from sklearn.model_selection import KFold\n",
    "from sklearn.decomposition import PCA\n",
    "from sklearn.preprocessing import scale\n",
    "from sklearn.neighbors import KNeighborsClassifier\n",
    "from sklearn import svm\n",
    "from sklearn import preprocessing\n",
    "from sklearn.linear_model import LogisticRegression\n",
    "from sklearn.gaussian_process.kernels import RBF\n",
    "from sklearn.ensemble import VotingClassifier\n",
    "from sklearn.model_selection import GridSearchCV"
   ]
  },
  {
   "cell_type": "code",
   "execution_count": 25,
   "metadata": {
    "colab": {
     "base_uri": "https://localhost:8080/",
     "height": 423
    },
    "id": "VMdM9egANsGh",
    "outputId": "34255ef4-5b6b-40db-dcea-3c84f626acaf"
   },
   "outputs": [
    {
     "data": {
      "text/html": [
       "<div>\n",
       "<style scoped>\n",
       "    .dataframe tbody tr th:only-of-type {\n",
       "        vertical-align: middle;\n",
       "    }\n",
       "\n",
       "    .dataframe tbody tr th {\n",
       "        vertical-align: top;\n",
       "    }\n",
       "\n",
       "    .dataframe thead th {\n",
       "        text-align: right;\n",
       "    }\n",
       "</style>\n",
       "<table border=\"1\" class=\"dataframe\">\n",
       "  <thead>\n",
       "    <tr style=\"text-align: right;\">\n",
       "      <th></th>\n",
       "      <th>participant</th>\n",
       "      <th>sex</th>\n",
       "      <th>age</th>\n",
       "      <th>ID_short</th>\n",
       "      <th>format</th>\n",
       "      <th>audio_type</th>\n",
       "      <th>fatigue</th>\n",
       "      <th>Spectrograms</th>\n",
       "    </tr>\n",
       "  </thead>\n",
       "  <tbody>\n",
       "    <tr>\n",
       "      <th>0</th>\n",
       "      <td>PREDI_0078</td>\n",
       "      <td>1.0</td>\n",
       "      <td>43.0</td>\n",
       "      <td>colive.0078_20200626102146</td>\n",
       "      <td>3gp</td>\n",
       "      <td>type1 &amp; type2</td>\n",
       "      <td>False</td>\n",
       "      <td>[[-40.12513286303115, -42.86500020727826, -42....</td>\n",
       "    </tr>\n",
       "    <tr>\n",
       "      <th>1</th>\n",
       "      <td>PREDI_0078</td>\n",
       "      <td>1.0</td>\n",
       "      <td>43.0</td>\n",
       "      <td>colive.0078_20200623090647</td>\n",
       "      <td>3gp</td>\n",
       "      <td>type1 &amp; type2</td>\n",
       "      <td>False</td>\n",
       "      <td>[[-35.52174398870604, -49.53425997500363, -49....</td>\n",
       "    </tr>\n",
       "    <tr>\n",
       "      <th>2</th>\n",
       "      <td>PREDI_0078</td>\n",
       "      <td>1.0</td>\n",
       "      <td>43.0</td>\n",
       "      <td>colive.0078_20200622094056</td>\n",
       "      <td>3gp</td>\n",
       "      <td>type1 &amp; type2</td>\n",
       "      <td>False</td>\n",
       "      <td>[[-20.745152085044417, -43.81118514925398, -43...</td>\n",
       "    </tr>\n",
       "    <tr>\n",
       "      <th>3</th>\n",
       "      <td>PREDI_0078</td>\n",
       "      <td>1.0</td>\n",
       "      <td>43.0</td>\n",
       "      <td>colive.0078_20200620071523</td>\n",
       "      <td>3gp</td>\n",
       "      <td>type1 &amp; type2</td>\n",
       "      <td>False</td>\n",
       "      <td>[[-26.82865797123526, -50.80539619868513, -35....</td>\n",
       "    </tr>\n",
       "    <tr>\n",
       "      <th>4</th>\n",
       "      <td>PREDI_0078</td>\n",
       "      <td>1.0</td>\n",
       "      <td>43.0</td>\n",
       "      <td>colive.0078_20200619091201</td>\n",
       "      <td>3gp</td>\n",
       "      <td>type1 &amp; type2</td>\n",
       "      <td>False</td>\n",
       "      <td>[[-18.285228656193382, -44.311065200834975, -4...</td>\n",
       "    </tr>\n",
       "    <tr>\n",
       "      <th>...</th>\n",
       "      <td>...</td>\n",
       "      <td>...</td>\n",
       "      <td>...</td>\n",
       "      <td>...</td>\n",
       "      <td>...</td>\n",
       "      <td>...</td>\n",
       "      <td>...</td>\n",
       "      <td>...</td>\n",
       "    </tr>\n",
       "    <tr>\n",
       "      <th>684</th>\n",
       "      <td>PREDI_2635</td>\n",
       "      <td>1.0</td>\n",
       "      <td>29.0</td>\n",
       "      <td>colive.2635_20210629090359</td>\n",
       "      <td>3gp</td>\n",
       "      <td>type1 &amp; type2</td>\n",
       "      <td>False</td>\n",
       "      <td>[[-29.5360234259978, -36.86138596075685, -35.6...</td>\n",
       "    </tr>\n",
       "    <tr>\n",
       "      <th>685</th>\n",
       "      <td>PREDI_2677</td>\n",
       "      <td>1.0</td>\n",
       "      <td>35.0</td>\n",
       "      <td>colive.2677_20210724073530</td>\n",
       "      <td>3gp</td>\n",
       "      <td>type1 &amp; type2</td>\n",
       "      <td>False</td>\n",
       "      <td>[[-19.049145108959845, -48.8134495289204, -48....</td>\n",
       "    </tr>\n",
       "    <tr>\n",
       "      <th>686</th>\n",
       "      <td>PREDI_2677</td>\n",
       "      <td>1.0</td>\n",
       "      <td>35.0</td>\n",
       "      <td>colive.2677_20210723065529</td>\n",
       "      <td>3gp</td>\n",
       "      <td>type1 &amp; type2</td>\n",
       "      <td>True</td>\n",
       "      <td>[[-20.706890052956254, -45.15509395403837, -45...</td>\n",
       "    </tr>\n",
       "    <tr>\n",
       "      <th>687</th>\n",
       "      <td>PREDI_2725</td>\n",
       "      <td>0.0</td>\n",
       "      <td>34.0</td>\n",
       "      <td>colive.2725_20210817202446</td>\n",
       "      <td>3gp</td>\n",
       "      <td>type1 &amp; type2</td>\n",
       "      <td>True</td>\n",
       "      <td>[[-38.18941969724684, -31.932473225833448, -33...</td>\n",
       "    </tr>\n",
       "    <tr>\n",
       "      <th>688</th>\n",
       "      <td>PREDI_2725</td>\n",
       "      <td>0.0</td>\n",
       "      <td>34.0</td>\n",
       "      <td>colive.2725_20210816213230</td>\n",
       "      <td>3gp</td>\n",
       "      <td>type1 &amp; type2</td>\n",
       "      <td>True</td>\n",
       "      <td>[[-37.02760573040751, -45.21937366131762, -45....</td>\n",
       "    </tr>\n",
       "  </tbody>\n",
       "</table>\n",
       "<p>689 rows × 8 columns</p>\n",
       "</div>"
      ],
      "text/plain": [
       "    participant  ...                                       Spectrograms\n",
       "0    PREDI_0078  ...  [[-40.12513286303115, -42.86500020727826, -42....\n",
       "1    PREDI_0078  ...  [[-35.52174398870604, -49.53425997500363, -49....\n",
       "2    PREDI_0078  ...  [[-20.745152085044417, -43.81118514925398, -43...\n",
       "3    PREDI_0078  ...  [[-26.82865797123526, -50.80539619868513, -35....\n",
       "4    PREDI_0078  ...  [[-18.285228656193382, -44.311065200834975, -4...\n",
       "..          ...  ...                                                ...\n",
       "684  PREDI_2635  ...  [[-29.5360234259978, -36.86138596075685, -35.6...\n",
       "685  PREDI_2677  ...  [[-19.049145108959845, -48.8134495289204, -48....\n",
       "686  PREDI_2677  ...  [[-20.706890052956254, -45.15509395403837, -45...\n",
       "687  PREDI_2725  ...  [[-38.18941969724684, -31.932473225833448, -33...\n",
       "688  PREDI_2725  ...  [[-37.02760573040751, -45.21937366131762, -45....\n",
       "\n",
       "[689 rows x 8 columns]"
      ]
     },
     "execution_count": 25,
     "metadata": {},
     "output_type": "execute_result"
    }
   ],
   "source": [
    "Android_set = pd.read_pickle('/content/drive/My Drive/DATA/Android_Spectrogramset.pkl')\n",
    "Android_set"
   ]
  },
  {
   "cell_type": "code",
   "execution_count": 26,
   "metadata": {
    "id": "JsOQVTqKOrhM"
   },
   "outputs": [],
   "source": [
    "#Stratification based on the gender\n",
    "Android_men =Android_set.loc[Android_set['sex'] == 1] #1 for men and 0 for women\n",
    "Android_women =Android_set.loc[Android_set['sex'] == 0] "
   ]
  },
  {
   "cell_type": "code",
   "execution_count": null,
   "metadata": {
    "id": "IR7yDQ-SouNX"
   },
   "outputs": [],
   "source": [
    "#Lable encoding: 1 when Fatigue = True\n",
    "le = preprocessing.LabelEncoder()\n",
    "Android_women['fatigue'] = le.fit_transform(Android_women['fatigue'])\n",
    "y_women = Android_women['fatigue'].values"
   ]
  },
  {
   "cell_type": "code",
   "execution_count": 32,
   "metadata": {
    "id": "FDoRzVu_kAIu"
   },
   "outputs": [],
   "source": [
    "#create 3 channels for the spectrograms (VGG19 has been pretrained on images having 3 channels RGB)\n",
    "spectro_women = Android_women[\"Spectrograms\"].values\n",
    "sp_women = []\n",
    "for x in spectro_women:\n",
    "  log_mel_spectrogram = np.stack([x, x, x], axis = -1)\n",
    "  sp_women.append(log_mel_spectrogram)\n",
    "X_spectro_women = np.array(sp_women, dtype=float)"
   ]
  },
  {
   "cell_type": "code",
   "execution_count": 33,
   "metadata": {
    "colab": {
     "base_uri": "https://localhost:8080/"
    },
    "id": "A7VedOmZkAGF",
    "outputId": "1d59e971-fa3e-4b76-b856-3ba3111f3521"
   },
   "outputs": [
    {
     "name": "stdout",
     "output_type": "stream",
     "text": [
      "Downloading data from https://storage.googleapis.com/tensorflow/keras-applications/vgg19/vgg19_weights_tf_dim_ordering_tf_kernels_notop.h5\n",
      "80142336/80134624 [==============================] - 1s 0us/step\n",
      "80150528/80134624 [==============================] - 1s 0us/step\n",
      "KerasTensor(type_spec=TensorSpec(shape=(None, 6, 6, 512), dtype=tf.float32, name=None), name='block5_pool/MaxPool:0', description=\"created by layer 'block5_pool'\")\n"
     ]
    }
   ],
   "source": [
    "#call the VGG19 model\n",
    "vgg19 = VGG19(weights='imagenet',\n",
    "                  include_top=False,\n",
    "                  input_shape=(196, 196, 3))\n",
    "\n",
    "for layers in vgg19.layers:\n",
    "    layers.trainable=False\n",
    "\n",
    "print(vgg19.output)"
   ]
  },
  {
   "cell_type": "code",
   "execution_count": null,
   "metadata": {
    "id": "oSbVSV18kADt"
   },
   "outputs": [],
   "source": [
    "#feature extraction\n",
    "features_women = vgg19.predict(X_spectro_women)\n",
    "feature_women = np.reshape(features_women,(-1,6*6*512))"
   ]
  },
  {
   "cell_type": "code",
   "execution_count": null,
   "metadata": {
    "id": "cJYUqCNYj_9c"
   },
   "outputs": [],
   "source": [
    "#Splitting data into train (80%) and test (20%) sets\n",
    "X, X_test1, y_train, y_test = train_test_split(feature_women, y_women, test_size = 0.2, random_state = 1, stratify = y_women) #random_state is fixed to 1 to ensure reproducibility"
   ]
  },
  {
   "cell_type": "markdown",
   "metadata": {
    "id": "_gW7A8l2-oc-"
   },
   "source": [
    "##PCA reduction "
   ]
  },
  {
   "cell_type": "code",
   "execution_count": null,
   "metadata": {
    "id": "GQeajPOD6a-Y"
   },
   "outputs": [],
   "source": [
    "pca = PCA()\n",
    "pca.fit(X)\n",
    "reduced = pca.transform(X)"
   ]
  },
  {
   "cell_type": "code",
   "execution_count": null,
   "metadata": {
    "id": "fH655L5V6a64"
   },
   "outputs": [],
   "source": [
    "variance = pca.explained_variance_ratio_ \n",
    "var=np.cumsum(np.round(pca.explained_variance_ratio_, decimals=3)*100)"
   ]
  },
  {
   "cell_type": "code",
   "execution_count": null,
   "metadata": {
    "colab": {
     "base_uri": "https://localhost:8080/",
     "height": 313
    },
    "id": "yiUriw-x6a3i",
    "outputId": "afde4646-099a-4f50-e249-baa6cfadd708"
   },
   "outputs": [
    {
     "data": {
      "text/plain": [
       "[<matplotlib.lines.Line2D at 0x7fba304b81d0>]"
      ]
     },
     "execution_count": 25,
     "metadata": {},
     "output_type": "execute_result"
    },
    {
     "data": {
      "image/png": "[encoded data removed]",
      "text/plain": [
       "<Figure size 432x288 with 1 Axes>"
      ]
     },
     "metadata": {
      "needs_background": "light"
     },
     "output_type": "display_data"
    }
   ],
   "source": [
    "plt.ylabel('% Variance Explained')\n",
    "plt.xlabel('No. of Features')\n",
    "plt.title('PCA Analysis')\n",
    "plt.plot(var)"
   ]
  },
  {
   "cell_type": "code",
   "execution_count": null,
   "metadata": {
    "id": "jwTyFdO86azw"
   },
   "outputs": [],
   "source": [
    "pca = PCA(n_components=250)\n",
    "pca.fit(X)\n",
    "X_train = pca.transform(X)\n",
    "X_test = pca.transform(X_test1)"
   ]
  },
  {
   "cell_type": "markdown",
   "metadata": {
    "id": "q4SMswH6XjtL"
   },
   "source": [
    "# **Train ML models: VGG19 extracted and reduced features (Android female users)**"
   ]
  },
  {
   "cell_type": "markdown",
   "metadata": {
    "id": "iYMve6ZhXjtL"
   },
   "source": [
    "##Fine tune hyperparameters of ML models"
   ]
  },
  {
   "cell_type": "code",
   "execution_count": null,
   "metadata": {
    "id": "oaFpwD6vXjtL"
   },
   "outputs": [],
   "source": [
    "classifier = LogisticRegression(class_weight = 'balanced', max_iter=1000)\n",
    "# Applying Grid Search to find the best parameters\n",
    "parameters = [{'C': [0.001, 0.01, 0.1, 1, 10, 100,1000], 'penalty': ['l1', 'l2']}]\n",
    "\n",
    "grid_search = GridSearchCV(estimator = classifier,\n",
    "                           param_grid = parameters,\n",
    "                           scoring = 'roc_auc',\n",
    "                           cv = 10,\n",
    "                           n_jobs = -1)\n",
    "grid_search = grid_search.fit(X_train, y_train)\n",
    "grid_search.best_params_"
   ]
  },
  {
   "cell_type": "code",
   "execution_count": null,
   "metadata": {
    "id": "SBIEUCEgXjtM"
   },
   "outputs": [],
   "source": [
    "classifier = KNeighborsClassifier()\n",
    "# Applying Grid Search to find the best parameters\n",
    "parameters = [{'n_neighbors': [3, 5, 10], 'weights': ['uniform', 'distance']}]\n",
    "\n",
    "grid_search = GridSearchCV(estimator = classifier,\n",
    "                           param_grid = parameters,\n",
    "                           scoring = 'roc_auc',\n",
    "                           cv = 10,\n",
    "                           n_jobs = -1)\n",
    "grid_search = grid_search.fit(X_train, y_train)\n",
    "grid_search.best_params_"
   ]
  },
  {
   "cell_type": "code",
   "execution_count": null,
   "metadata": {
    "id": "hsvm6MbLXjtM"
   },
   "outputs": [],
   "source": [
    "classifier = svm.SVC(kernel = 'rbf',class_weight = 'balanced', gamma='scale')\n",
    "parameters = {'C': [0.1,1, 10, 100]}\n",
    "grid_search = GridSearchCV(estimator = classifier,\n",
    "                           param_grid = parameters,\n",
    "                           scoring = 'roc_auc',\n",
    "                           cv = 10,\n",
    "                           n_jobs = -1)\n",
    "grid_search = grid_search.fit(X_train, y_train)\n",
    "grid_search.best_params_"
   ]
  },
  {
   "cell_type": "markdown",
   "metadata": {
    "id": "5lEVSpVAXjtM"
   },
   "source": [
    "##Training"
   ]
  },
  {
   "cell_type": "code",
   "execution_count": null,
   "metadata": {
    "id": "TEIpwDsMXjtM"
   },
   "outputs": [],
   "source": [
    "# Model building to train\n",
    "# Change the hyperparameters according to the gridsearch results\n",
    "names = ['K Nearest Neighbors','Logistic regression', 'SVM rbf']\n",
    "Classifiers = [\n",
    "               KNeighborsClassifier(n_neighbors = 10, weights = 'distance'),\n",
    "               LogisticRegression(max_iter=10000, class_weight = 'balanced', C= 0.001, penalty= 'l2'), \n",
    "               svm.SVC(kernel = 'rbf', class_weight = 'balanced', C=10)\n",
    "              ]\n",
    "\n",
    "\n",
    "models = zip(names, Classifiers)\n",
    "\n",
    "from sklearn.model_selection import KFold, cross_val_score\n",
    "\n",
    "names = []\n",
    "result = []\n",
    "for name, model in models:\n",
    "  kfold = KFold(n_splits = 10, shuffle = True, random_state = 1)\n",
    "  cv_results = cross_val_score(model, X_train, y_train, cv = kfold, scoring = 'accuracy')\n",
    "  result.append(cv_results)\n",
    "  names.append(name)\n",
    "  msg = \"{0}: {1} ({2})\".format(name, cv_results.mean(), cv_results.std())\n",
    "  print(msg)"
   ]
  },
  {
   "cell_type": "code",
   "execution_count": null,
   "metadata": {
    "id": "SNE0MM_kXjtN"
   },
   "outputs": [],
   "source": [
    "#classification report\n",
    "models = zip(names, Classifiers)\n",
    "for name, model in models:\n",
    "    model.fit(X_train, y_train)\n",
    "    y_pred = model.predict(X_test)\n",
    "    print(name)\n",
    "    print(accuracy_score(y_test, y_pred))\n",
    "    print(classification_report(y_test, y_pred))\n",
    "    #plot_confusion_matrix(model, X_test, y_test)\n",
    "    print(\"--------------------------------------------------------------------------\")"
   ]
  },
  {
   "cell_type": "code",
   "execution_count": null,
   "metadata": {
    "id": "Ayb7VEcGdaNy"
   },
   "outputs": [],
   "source": [
    "#expected output\n",
    "\n",
    "K Nearest Neighbors\n",
    "0.7246376811594203\n",
    "              precision    recall  f1-score   support\n",
    "\n",
    "           0       0.70      0.87      0.78        38\n",
    "           1       0.77      0.55      0.64        31\n",
    "\n",
    "    accuracy                           0.72        69\n",
    "   macro avg       0.74      0.71      0.71        69\n",
    "weighted avg       0.73      0.72      0.72        69\n",
    "\n",
    "--------------------------------------------------------------------------\n",
    "Logistic regression\n",
    "0.7681159420289855\n",
    "              precision    recall  f1-score   support\n",
    "\n",
    "           0       0.81      0.76      0.78        38\n",
    "           1       0.73      0.77      0.75        31\n",
    "\n",
    "    accuracy                           0.77        69\n",
    "   macro avg       0.77      0.77      0.77        69\n",
    "weighted avg       0.77      0.77      0.77        69\n",
    "\n",
    "--------------------------------------------------------------------------\n",
    "SVM rbf\n",
    "0.7971014492753623\n",
    "              precision    recall  f1-score   support\n",
    "\n",
    "           0       0.80      0.84      0.82        38\n",
    "           1       0.79      0.74      0.77        31\n",
    "\n",
    "    accuracy                           0.80        69\n",
    "   macro avg       0.80      0.79      0.79        69\n",
    "weighted avg       0.80      0.80      0.80        69\n",
    "\n",
    "--------------------------------------------------------------------------"
   ]
  },
  {
   "cell_type": "code",
   "execution_count": null,
   "metadata": {
    "id": "RJ1qfanmXjtN"
   },
   "outputs": [],
   "source": [
    "#Plot the confusion matrix for each model\n",
    "import matplotlib.pyplot as plt\n",
    "models = zip(names, Classifiers)\n",
    "for name, model in models:\n",
    "    #model.fit(X_train, y_train)\n",
    "    #y_pred = model.predict(X_test)\n",
    "    disp = plot_confusion_matrix(model, X_test, y_test,\n",
    "                                 cmap = plt.cm.Blues, values_format = '.5g')\n",
    "    disp.ax_.set_title(name)\n",
    "\n",
    "    print(name)\n",
    "    print(disp.confusion_matrix)\n",
    "    plt.show()"
   ]
  },
  {
   "cell_type": "markdown",
   "metadata": {
    "id": "AHPgbHJFdygq"
   },
   "source": [
    "![image.png](data:image/png;base64,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)\n",
    "\n",
    "![image.png](data:image/png;base64,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)\n",
    "\n",
    "![image.png](data:image/png;base64,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)"
   ]
  },
  {
   "cell_type": "code",
   "execution_count": null,
   "metadata": {
    "id": "PAodpNQnXjtN"
   },
   "outputs": [],
   "source": [
    "#plot the aera under the curve AUC\n",
    "rom sklearn import datasets, metrics, model_selection\n",
    "models = zip(names, Classifiers)\n",
    "for name, model in models:\n",
    "    model.fit(X_train, y_train)\n",
    "    metrics.plot_roc_curve(model, X_test, y_test)  \n",
    "    plt.show()"
   ]
  },
  {
   "cell_type": "markdown",
   "metadata": {
    "id": "UwJ8kswweDiE"
   },
   "source": [
    "![image.png](data:image/png;base64,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)\n",
    "\n",
    "![image.png](data:image/png;base64,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)\n",
    "\n",
    "![image.png](data:image/png;base64,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)"
   ]
  },
  {
   "cell_type": "code",
   "execution_count": null,
   "metadata": {
    "id": "t9X6k9uedDwa"
   },
   "outputs": [],
   "source": []
  },
  {
   "cell_type": "markdown",
   "metadata": {
    "id": "Xlf2snYTXjtN"
   },
   "source": [
    "### Voting classifier "
   ]
  },
  {
   "cell_type": "code",
   "execution_count": null,
   "metadata": {
    "colab": {
     "base_uri": "https://localhost:8080/"
    },
    "id": "BajYushkXjtN",
    "outputId": "85f09589-016d-48c5-d0ee-c20920b2c4d5"
   },
   "outputs": [
    {
     "name": "stdout",
     "output_type": "stream",
     "text": [
      "0.6915343915343916 0.0590599207757892\n"
     ]
    }
   ],
   "source": [
    "from sklearn.model_selection import KFold, cross_val_score, StratifiedKFold\n",
    "kfold = StratifiedKFold(n_splits = 10, random_state = 1, shuffle =True)\n",
    "\n",
    "estimators = []\n",
    "mod1 = LogisticRegression(max_iter=10000, class_weight = 'balanced', C= 0.001, penalty= 'l2')\n",
    "estimators.append(('lr', mod1))\n",
    "mod2 = svm.SVC(kernel = 'rbf', class_weight = 'balanced', C=10, probability=True)\n",
    "estimators.append(('RBF', mod2))\n",
    "#mod3 = svm.SVC(kernel = 'sigmoid', class_weight = 'balanced', C=0.1, probability=True)\n",
    "#estimators.append(('sigmoid', mod3))\n",
    "\n",
    "ensemble = VotingClassifier(estimators, voting = 'soft', weights = [2,2])\n",
    "results = cross_val_score(ensemble, X_train, y_train, cv = kfold, scoring = 'accuracy')\n",
    "\n",
    "print(results.mean(), results.std())"
   ]
  },
  {
   "cell_type": "code",
   "execution_count": null,
   "metadata": {
    "colab": {
     "base_uri": "https://localhost:8080/"
    },
    "id": "v4bBxQ1LXjtN",
    "outputId": "5f81c85f-d09e-46c7-d5f1-b846d0c5ee4a"
   },
   "outputs": [
    {
     "name": "stdout",
     "output_type": "stream",
     "text": [
      "0.782608695652174\n",
      "              precision    recall  f1-score   support\n",
      "\n",
      "           0       0.81      0.79      0.80        38\n",
      "           1       0.75      0.77      0.76        31\n",
      "\n",
      "    accuracy                           0.78        69\n",
      "   macro avg       0.78      0.78      0.78        69\n",
      "weighted avg       0.78      0.78      0.78        69\n",
      "\n"
     ]
    }
   ],
   "source": [
    "emb = ensemble.fit(X_train, y_train)\n",
    "y_pred = emb.predict(X_test)\n",
    "print(accuracy_score(y_test, y_pred))\n",
    "print(classification_report(y_test, y_pred))"
   ]
  },
  {
   "cell_type": "code",
   "execution_count": null,
   "metadata": {
    "colab": {
     "base_uri": "https://localhost:8080/",
     "height": 347
    },
    "id": "j90HKLVAXjtN",
    "outputId": "9597eba8-27a4-499f-8d55-938a6c15a1bb"
   },
   "outputs": [
    {
     "name": "stdout",
     "output_type": "stream",
     "text": [
      "Voting classifier\n",
      "[[30  8]\n",
      " [ 7 24]]\n"
     ]
    },
    {
     "data": {
      "image/png": "[encoded data removed]",
      "text/plain": [
       "<Figure size 432x288 with 2 Axes>"
      ]
     },
     "metadata": {
      "needs_background": "light"
     },
     "output_type": "display_data"
    }
   ],
   "source": [
    "import matplotlib.pyplot as plt\n",
    "disp = plot_confusion_matrix(ensemble, X_test, y_test,\n",
    "                                 cmap = plt.cm.Blues, values_format = '.5g')\n",
    "disp.ax_.set_title('Voting classifier')\n",
    "\n",
    "print('Voting classifier')\n",
    "print(disp.confusion_matrix)\n",
    "plt.show()"
   ]
  },
  {
   "cell_type": "code",
   "execution_count": null,
   "metadata": {
    "colab": {
     "base_uri": "https://localhost:8080/",
     "height": 279
    },
    "id": "X2_abxA9XjtN",
    "outputId": "e9afd334-81d3-4233-cb85-4e1c4da19f60"
   },
   "outputs": [
    {
     "data": {
      "image/png": "[encoded data removed]",
      "text/plain": [
       "<Figure size 432x288 with 1 Axes>"
      ]
     },
     "metadata": {
      "needs_background": "light"
     },
     "output_type": "display_data"
    }
   ],
   "source": [
    "from sklearn import datasets, metrics, model_selection\n",
    "metrics.plot_roc_curve(ensemble, X_test, y_test)  \n",
    "plt.show()"
   ]
  },
  {
   "cell_type": "markdown",
   "metadata": {
    "id": "IT9hMVFDXjtO"
   },
   "source": [
    "##Distribution box plot + student test for the best model selected"
   ]
  },
  {
   "cell_type": "code",
   "execution_count": null,
   "metadata": {
    "id": "z-yFKBh5XjtO"
   },
   "outputs": [],
   "source": [
    "emb = mod2.fit(X_train, y_train) #mod2 (SVM) best model\n",
    "y_pred8 = emb.predict_proba(X_test)"
   ]
  },
  {
   "cell_type": "code",
   "execution_count": null,
   "metadata": {
    "id": "iulgWTCyXjtO"
   },
   "outputs": [],
   "source": [
    "y_pred2 = y_pred8[:,1:] "
   ]
  },
  {
   "cell_type": "code",
   "execution_count": null,
   "metadata": {
    "colab": {
     "base_uri": "https://localhost:8080/",
     "height": 279
    },
    "id": "nzxAhtHoXjtO",
    "outputId": "a00661e7-cbca-4287-dd62-e549b8cde28e"
   },
   "outputs": [
    {
     "data": {
      "image/png": "[encoded data removed]",
      "text/plain": [
       "<Figure size 432x288 with 1 Axes>"
      ]
     },
     "metadata": {
      "needs_background": "light"
     },
     "output_type": "display_data"
    }
   ],
   "source": [
    "import seaborn as sns\n",
    "import matplotlib.pyplot as plt\n",
    "y_pred2 = y_pred2.reshape(69,)\n",
    "sns.boxplot( x=y_test, y=y_pred2, palette=\"Blues\").set(\n",
    "    xlabel='Fatigue', \n",
    "    ylabel='predicted proba')\n",
    "plt.show()"
   ]
  },
  {
   "cell_type": "code",
   "execution_count": null,
   "metadata": {
    "id": "I1yFjy-3XjtO"
   },
   "outputs": [],
   "source": [
    "list_pred = y_pred2.tolist()\n",
    "list_label8 = y_test.tolist()"
   ]
  },
  {
   "cell_type": "code",
   "execution_count": null,
   "metadata": {
    "id": "5HhaxcWeXjtO"
   },
   "outputs": [],
   "source": [
    "indices_1 = [i for i, x in enumerate(list_label8) if x == 1]\n",
    "indices_0 = [i for i, x in enumerate(list_label8) if x == 0]\n",
    "list_pred_1=[]\n",
    "for i in indices_1:\n",
    "  get_val1 = list_pred[i]\n",
    "  list_pred_1.append(get_val1)"
   ]
  },
  {
   "cell_type": "code",
   "execution_count": null,
   "metadata": {
    "id": "Opjs9ct7XjtO"
   },
   "outputs": [],
   "source": [
    "list_pred_0=[]\n",
    "for i in indices_0:\n",
    "  get_val0 = list_pred[i]\n",
    "  list_pred_0.append(get_val0)"
   ]
  },
  {
   "cell_type": "code",
   "execution_count": null,
   "metadata": {
    "colab": {
     "base_uri": "https://localhost:8080/"
    },
    "id": "bfqljaNMXjtO",
    "outputId": "74440d92-3f95-4180-9292-9f47fa911cb6"
   },
   "outputs": [
    {
     "name": "stdout",
     "output_type": "stream",
     "text": [
      "Statistics=-6.79991, p=0.00000\n",
      "Different distributions (reject H0)\n"
     ]
    }
   ],
   "source": [
    "from scipy.stats import ttest_ind\n",
    "# compare samples\n",
    "stat, p = ttest_ind(list_pred_0, list_pred_1)\n",
    "print('Statistics=%.5f, p=%.5f' % (stat, p))\n",
    "# interpret\n",
    "alpha = 0.05\n",
    "if p > alpha:\n",
    "\tprint('Same distributions (fail to reject H0)')\n",
    "else:\n",
    "\tprint('Different distributions (reject H0)')"
   ]
  },
  {
   "cell_type": "code",
   "execution_count": null,
   "metadata": {
    "colab": {
     "base_uri": "https://localhost:8080/"
    },
    "id": "omjZxxnTXjtO",
    "outputId": "a2673c2c-d480-40ac-aed2-8656f671905c"
   },
   "outputs": [
    {
     "data": {
      "text/plain": [
       "3.449389650489302e-09"
      ]
     },
     "execution_count": 64,
     "metadata": {},
     "output_type": "execute_result"
    }
   ],
   "source": [
    "p"
   ]
  }
 ],
 "metadata": {
  "colab": {
   "collapsed_sections": [
    "_gW7A8l2-oc-",
    "q4SMswH6XjtL",
    "iYMve6ZhXjtL",
    "5lEVSpVAXjtM",
    "Xlf2snYTXjtN",
    "IT9hMVFDXjtO"
   ],
   "name": "Feature extraction and ML models' training.ipynb",
   "provenance": []
  },
  "kernelspec": {
   "display_name": "Python 3",
   "language": "python",
   "name": "python3"
  },
  "language_info": {
   "codemirror_mode": {
    "name": "ipython",
    "version": 3
   },
   "file_extension": ".py",
   "mimetype": "text/x-python",
   "name": "python",
   "nbconvert_exporter": "python",
   "pygments_lexer": "ipython3",
   "version": "3.8.5"
  }
 },
 "nbformat": 4,
 "nbformat_minor": 1
}
