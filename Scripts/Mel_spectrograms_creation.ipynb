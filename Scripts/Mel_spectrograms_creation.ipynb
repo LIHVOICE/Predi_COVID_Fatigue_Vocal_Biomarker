{
 "cells": [
  {
   "cell_type": "code",
   "execution_count": null,
   "metadata": {
    "id": "XgMaAoQjfWKF"
   },
   "outputs": [],
   "source": [
    "import numpy as np\n",
    "import librosa\n",
    "import IPython.display as ipd\n",
    "import pandas as pd"
   ]
  },
  {
   "cell_type": "code",
   "execution_count": null,
   "metadata": {
    "id": "V03fMfk9fZLW"
   },
   "outputs": [],
   "source": [
    "data = pd.read_csv(\"C:/Users/aelbeji/Desktop/Abir's internship/datasets_csv/iOS_audioset.csv\") #Android_audioset for 3gp audios"
   ]
  },
  {
   "cell_type": "code",
   "execution_count": null,
   "metadata": {
    "id": "CvoMOMD6fZI-"
   },
   "outputs": [],
   "source": [
    "data1 = data.loc[data['audio_type'] == 'type1'] #for type1 audios\n",
    "data2 = data.loc[data['audio_type'] == 'type2'] #for type2 audios"
   ]
  },
  {
   "cell_type": "code",
   "execution_count": null,
   "metadata": {
    "id": "F9yF_8_XfZGF"
   },
   "outputs": [],
   "source": [
    "#extract and store type1 and type2 audios into numpy arrays separately\n",
    "#Here, only type1 audios were processed. \n",
    "\n",
    "sound_data1 = []\n",
    "for file_name in data1['ID_short']:\n",
    "    current_sound,_ =  librosa.load(\"Insert your PATH/Predi_Covid_audios/{}.wav\".format(file_name), sr=8000) \n",
    "    sound_data1.append(current_sound)  \n",
    "sound_data1 = np.array(sound_data1, dtype=object)\n",
    "\n",
    "#np.save(\"sound_data1_m4a_3.npy\", sound_data) #you can save your audios #sound_data2_m4a for type2 audios"
   ]
  },
  {
   "cell_type": "code",
   "execution_count": null,
   "metadata": {
    "id": "670qeh3BLNKa"
   },
   "outputs": [],
   "source": [
    "#wave plot vizualization\n",
    "librosa.display.waveplot(sound_data1[1096], sr=8000) #example for participant with fatigue"
   ]
  },
  {
   "cell_type": "code",
   "execution_count": null,
   "metadata": {
    "id": "2Dynh3aNfZCG"
   },
   "outputs": [],
   "source": [
    "#Append silence to type1 and type2 audios separately to reach 50 seconds\n",
    "\n",
    "target_wav_time  = 50\n",
    "final_comb1 = []\n",
    "for x in range(0, len(sound_data1)):\n",
    "    dur = librosa.get_duration(y=sound_data1[x], sr= 8000)\n",
    "    if dur > 50:\n",
    "        tar=target_wav_time*8000\n",
    "        combined_segment=sound_data1[x][:tar]\n",
    "    else:\n",
    "        silence_duration = (target_wav_time - dur)*8000  #define the duration of silence to be added to reach 50s\n",
    "        combined_segment = np.hstack((sound_data1[x],np.zeros(int(silence_duration)))) \n",
    "    final_comb1.append(combined_segment)\n",
    "final_comb1 = np.array(final_comb1, dtype=object)  \n",
    "\n",
    "#np.save(\"audio1_m4a_3.npy\", final_comb1) #audio2_m4a for type2 audios"
   ]
  },
  {
   "cell_type": "code",
   "execution_count": null,
   "metadata": {
    "id": "YhiIBcDBhwBo"
   },
   "outputs": [],
   "source": [
    "#Loading type 1 audios wiht silence\n",
    "audios_type1 = np.load(\"Insert your PATH/sound_data1_m4a.npy\",allow_pickle=True)\n",
    "\n",
    "#Loading type 2 audios with silence\n",
    "audios_type2 = np.load(\"Insert your PATH/sound_data2_m4a.npy\",allow_pickle=True)"
   ]
  },
  {
   "cell_type": "code",
   "execution_count": null,
   "metadata": {
    "id": "zk9emMl1fY_v"
   },
   "outputs": [],
   "source": [
    "#Concatenate type 1 and type 2 audios for each participant \n",
    "\n",
    "Audios_final = []\n",
    "for x, y in zip(audios_type1, audios_type2):\n",
    "    combined_segment = np.hstack((x,y))\n",
    "    Audios_final.append(combined_segment)\n",
    "Audios_final = np.array(Audios_final, dtype=object)\n",
    "#saving final audios\n",
    "np.save(\"final_sound_data_m4a.npy\", Audios_final) #save concatenated type1&2 audios"
   ]
  },
  {
   "cell_type": "code",
   "execution_count": null,
   "metadata": {
    "id": "NATh_2WVLlwB"
   },
   "outputs": [],
   "source": [
    "#check the silence&concatenation\n",
    "ipd.Audio(Audios_final[0], rate= 8000)"
   ]
  },
  {
   "cell_type": "code",
   "execution_count": null,
   "metadata": {
    "id": "wGuTPj_9fY9X"
   },
   "outputs": [],
   "source": [
    "#Generating mel-spectrograms\n",
    "\n",
    "mel_spectrograms = []\n",
    "for x in Audios_final:\n",
    "    mel_spectrogram_ = librosa.feature.melspectrogram(x, sr=8000, n_fft=8192, hop_length=4096, n_mels = 196) \n",
    "    log_mel_spectrogram_ = librosa.power_to_db(mel_spectrogram_)\n",
    "    mel_spectrograms.append(log_mel_spectrogram_)"
   ]
  },
  {
   "cell_type": "code",
   "execution_count": null,
   "metadata": {
    "id": "uJvG_TlQfY64"
   },
   "outputs": [],
   "source": [
    "#visualization of mel-spectrograms\n",
    "\n",
    "import librosa.display\n",
    "\n",
    "plt.figure(figsize=(25,10))\n",
    "ml = librosa.display.specshow(mel_spectrograms[1096],  #exmaple for participant with fatigue\n",
    "                         x_axis=\"time\",\n",
    "                         y_axis=\"mel\", \n",
    "                         sr=8000)\n",
    "#ml.figure.savefig(\"test.jpg\")\n",
    "#plt.colorbar(format=\"%+2.f\")\n",
    "\n",
    "plt.show()"
   ]
  },
  {
   "cell_type": "code",
   "execution_count": null,
   "metadata": {
    "id": "iiP7iSsrfY4O"
   },
   "outputs": [],
   "source": [
    "#check the squared shape of mel-spectrograms (196*196)\n",
    "\n",
    "mel_spectrograms = np.array(mel_spectrograms, dtype=float)\n",
    "mel_spectrograms.shape"
   ]
  },
  {
   "cell_type": "code",
   "execution_count": null,
   "metadata": {
    "id": "V2skFr53fY1m"
   },
   "outputs": [],
   "source": [
    "#np.save(\"Insert you PATH/melspectrograms_m4a.npy\", mel_spectrograms) #save final mel-spectrograms"
   ]
  },
  {
   "cell_type": "code",
   "execution_count": null,
   "metadata": {
    "id": "QbI9FmutfYv-"
   },
   "outputs": [],
   "source": []
  }
 ],
 "metadata": {
  "colab": {
   "collapsed_sections": [],
   "name": "Mel-spectrograms creation.ipynb",
   "provenance": []
  },
  "kernelspec": {
   "display_name": "Python 3",
   "language": "python",
   "name": "python3"
  },
  "language_info": {
   "codemirror_mode": {
    "name": "ipython",
    "version": 3
   },
   "file_extension": ".py",
   "mimetype": "text/x-python",
   "name": "python",
   "nbconvert_exporter": "python",
   "pygments_lexer": "ipython3",
   "version": "3.8.5"
  }
 },
 "nbformat": 4,
 "nbformat_minor": 1
}
