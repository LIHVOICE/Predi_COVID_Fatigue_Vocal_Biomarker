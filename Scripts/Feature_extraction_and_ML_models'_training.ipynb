{
  "nbformat": 4,
  "nbformat_minor": 0,
  "metadata": {
    "colab": {
      "name": "Feature extraction and ML models' training.ipynb",
      "provenance": [],
      "collapsed_sections": [
        "_gW7A8l2-oc-",
        "q4SMswH6XjtL",
        "iYMve6ZhXjtL",
        "5lEVSpVAXjtM",
        "Xlf2snYTXjtN",
        "c9hlR-ebfOmN",
        "D91_iIwgfRlQ",
        "Hxd6LWXdfW5s",
        "Yxeem8TsUEUO",
        "EXH3XJHMUEUP"
      ]
    },
    "kernelspec": {
      "name": "python3",
      "display_name": "Python 3"
    },
    "language_info": {
      "name": "python"
    }
  },
  "cells": [
    {
      "cell_type": "markdown",
      "metadata": {
        "id": "SDiNeHiPLfbL"
      },
      "source": [
        "[Open On Colab](https://colab.research.google.com/drive/1MqVwKT2KsBoTPu2WTzIfA8dLnobyrLdE?usp=sharing)"
      ]
    },
    {
      "cell_type": "code",
      "metadata": {
        "colab": {
          "base_uri": "https://localhost:8080/"
        },
        "id": "7qrejH5lN94T",
        "outputId": "15405fc8-8aea-4694-feee-fcde6a5e9344"
      },
      "source": [
        "from google.colab import drive \n",
        "drive.mount(\"/content/drive/\", force_remount=True)"
      ],
      "execution_count": 1,
      "outputs": [
        {
          "output_type": "stream",
          "name": "stdout",
          "text": [
            "Mounted at /content/drive/\n"
          ]
        }
      ]
    },
    {
      "cell_type": "code",
      "metadata": {
        "id": "PANFkRA9jT4d"
      },
      "source": [
        "import pandas as pd\n",
        "import tensorflow\n",
        "import numpy as np\n",
        "np.random.seed(1) \n",
        "import matplotlib.pyplot as plt\n",
        "from tensorflow.keras.applications import VGG19\n",
        "from sklearn.model_selection import train_test_split\n",
        "from sklearn.metrics import confusion_matrix, classification_report, plot_confusion_matrix, accuracy_score\n",
        "from sklearn.metrics import roc_auc_score, roc_curve\n",
        "from sklearn.model_selection import KFold\n",
        "from sklearn.decomposition import PCA\n",
        "from sklearn.preprocessing import scale\n",
        "from sklearn.neighbors import KNeighborsClassifier\n",
        "from sklearn import svm\n",
        "from sklearn import preprocessing\n",
        "from sklearn.linear_model import LogisticRegression\n",
        "from sklearn.gaussian_process.kernels import RBF\n",
        "from sklearn.ensemble import VotingClassifier\n",
        "from sklearn.model_selection import GridSearchCV"
      ],
      "execution_count": 2,
      "outputs": []
    },
    {
      "cell_type": "markdown",
      "metadata": {
        "id": "oaApaY2AHN1z"
      },
      "source": [
        "You can download the spectrogram sets here:\n",
        "\n",
        "1. [iOS_Mel_Spectrogramset.pkl](https://drive.google.com/file/d/1-0aKc1ZMakBHmyyRcHnnHw6VbGsctyr5/view?usp=sharing) \n",
        "\n",
        "2. [Android_Mel_Spectrogramset.pkl](https://drive.google.com/file/d/14Nu0kpv8mlivjgBgUQvY5yHtbyG8jTet/view?usp=sharing)"
      ]
    },
    {
      "cell_type": "code",
      "metadata": {
        "colab": {
          "base_uri": "https://localhost:8080/",
          "height": 423
        },
        "id": "VMdM9egANsGh",
        "outputId": "4dac0255-d655-451b-e594-7f4164f27b3f"
      },
      "source": [
        "#importing the dataset including the created mel-spectrograms \n",
        "#working on Android users\n",
        "Android_set = pd.read_pickle('/content/drive/My Drive/DATA/Android_Mel_Spectrogramset.pkl') #iOS_Mel_Spectrogramset.pkl for m4a format\n",
        "Android_set"
      ],
      "execution_count": 14,
      "outputs": [
        {
          "output_type": "execute_result",
          "data": {
            "text/html": [
              "<div>\n",
              "<style scoped>\n",
              "    .dataframe tbody tr th:only-of-type {\n",
              "        vertical-align: middle;\n",
              "    }\n",
              "\n",
              "    .dataframe tbody tr th {\n",
              "        vertical-align: top;\n",
              "    }\n",
              "\n",
              "    .dataframe thead th {\n",
              "        text-align: right;\n",
              "    }\n",
              "</style>\n",
              "<table border=\"1\" class=\"dataframe\">\n",
              "  <thead>\n",
              "    <tr style=\"text-align: right;\">\n",
              "      <th></th>\n",
              "      <th>participant</th>\n",
              "      <th>sex</th>\n",
              "      <th>age</th>\n",
              "      <th>ID_short</th>\n",
              "      <th>format</th>\n",
              "      <th>audio_type</th>\n",
              "      <th>fatigue</th>\n",
              "      <th>Spectrograms</th>\n",
              "    </tr>\n",
              "  </thead>\n",
              "  <tbody>\n",
              "    <tr>\n",
              "      <th>0</th>\n",
              "      <td>PREDI_0078</td>\n",
              "      <td>1.0</td>\n",
              "      <td>43.0</td>\n",
              "      <td>Predi.Covid_0078_20200626102146</td>\n",
              "      <td>3gp</td>\n",
              "      <td>type1 &amp; type2</td>\n",
              "      <td>False</td>\n",
              "      <td>[[-40.12513286303115, -42.86500020727826, -42....</td>\n",
              "    </tr>\n",
              "    <tr>\n",
              "      <th>1</th>\n",
              "      <td>PREDI_0078</td>\n",
              "      <td>1.0</td>\n",
              "      <td>43.0</td>\n",
              "      <td>Predi.Covid_0078_20200623090647</td>\n",
              "      <td>3gp</td>\n",
              "      <td>type1 &amp; type2</td>\n",
              "      <td>False</td>\n",
              "      <td>[[-35.52174398870604, -49.53425997500363, -49....</td>\n",
              "    </tr>\n",
              "    <tr>\n",
              "      <th>2</th>\n",
              "      <td>PREDI_0078</td>\n",
              "      <td>1.0</td>\n",
              "      <td>43.0</td>\n",
              "      <td>Predi.Covid_0078_20200622094056</td>\n",
              "      <td>3gp</td>\n",
              "      <td>type1 &amp; type2</td>\n",
              "      <td>False</td>\n",
              "      <td>[[-20.745152085044417, -43.81118514925398, -43...</td>\n",
              "    </tr>\n",
              "    <tr>\n",
              "      <th>3</th>\n",
              "      <td>PREDI_0078</td>\n",
              "      <td>1.0</td>\n",
              "      <td>43.0</td>\n",
              "      <td>Predi.Covid_0078_20200620071523</td>\n",
              "      <td>3gp</td>\n",
              "      <td>type1 &amp; type2</td>\n",
              "      <td>False</td>\n",
              "      <td>[[-26.82865797123526, -50.80539619868513, -35....</td>\n",
              "    </tr>\n",
              "    <tr>\n",
              "      <th>4</th>\n",
              "      <td>PREDI_0078</td>\n",
              "      <td>1.0</td>\n",
              "      <td>43.0</td>\n",
              "      <td>Predi.Covid_0078_20200619091201</td>\n",
              "      <td>3gp</td>\n",
              "      <td>type1 &amp; type2</td>\n",
              "      <td>False</td>\n",
              "      <td>[[-18.285228656193382, -44.311065200834975, -4...</td>\n",
              "    </tr>\n",
              "    <tr>\n",
              "      <th>...</th>\n",
              "      <td>...</td>\n",
              "      <td>...</td>\n",
              "      <td>...</td>\n",
              "      <td>...</td>\n",
              "      <td>...</td>\n",
              "      <td>...</td>\n",
              "      <td>...</td>\n",
              "      <td>...</td>\n",
              "    </tr>\n",
              "    <tr>\n",
              "      <th>684</th>\n",
              "      <td>PREDI_2635</td>\n",
              "      <td>1.0</td>\n",
              "      <td>29.0</td>\n",
              "      <td>Predi.Covid_2635_20210629090359</td>\n",
              "      <td>3gp</td>\n",
              "      <td>type1 &amp; type2</td>\n",
              "      <td>False</td>\n",
              "      <td>[[-29.5360234259978, -36.86138596075685, -35.6...</td>\n",
              "    </tr>\n",
              "    <tr>\n",
              "      <th>685</th>\n",
              "      <td>PREDI_2677</td>\n",
              "      <td>1.0</td>\n",
              "      <td>35.0</td>\n",
              "      <td>Predi.Covid_2677_20210724073530</td>\n",
              "      <td>3gp</td>\n",
              "      <td>type1 &amp; type2</td>\n",
              "      <td>False</td>\n",
              "      <td>[[-19.049145108959845, -48.8134495289204, -48....</td>\n",
              "    </tr>\n",
              "    <tr>\n",
              "      <th>686</th>\n",
              "      <td>PREDI_2677</td>\n",
              "      <td>1.0</td>\n",
              "      <td>35.0</td>\n",
              "      <td>Predi.Covid_2677_20210723065529</td>\n",
              "      <td>3gp</td>\n",
              "      <td>type1 &amp; type2</td>\n",
              "      <td>True</td>\n",
              "      <td>[[-20.706890052956254, -45.15509395403837, -45...</td>\n",
              "    </tr>\n",
              "    <tr>\n",
              "      <th>687</th>\n",
              "      <td>PREDI_2725</td>\n",
              "      <td>0.0</td>\n",
              "      <td>34.0</td>\n",
              "      <td>Predi.Covid_2725_20210817202446</td>\n",
              "      <td>3gp</td>\n",
              "      <td>type1 &amp; type2</td>\n",
              "      <td>True</td>\n",
              "      <td>[[-38.18941969724684, -31.932473225833448, -33...</td>\n",
              "    </tr>\n",
              "    <tr>\n",
              "      <th>688</th>\n",
              "      <td>PREDI_2725</td>\n",
              "      <td>0.0</td>\n",
              "      <td>34.0</td>\n",
              "      <td>Predi.Covid_2725_20210816213230</td>\n",
              "      <td>3gp</td>\n",
              "      <td>type1 &amp; type2</td>\n",
              "      <td>True</td>\n",
              "      <td>[[-37.02760573040751, -45.21937366131762, -45....</td>\n",
              "    </tr>\n",
              "  </tbody>\n",
              "</table>\n",
              "<p>689 rows × 8 columns</p>\n",
              "</div>"
            ],
            "text/plain": [
              "    participant  ...                                       Spectrograms\n",
              "0    PREDI_0078  ...  [[-40.12513286303115, -42.86500020727826, -42....\n",
              "1    PREDI_0078  ...  [[-35.52174398870604, -49.53425997500363, -49....\n",
              "2    PREDI_0078  ...  [[-20.745152085044417, -43.81118514925398, -43...\n",
              "3    PREDI_0078  ...  [[-26.82865797123526, -50.80539619868513, -35....\n",
              "4    PREDI_0078  ...  [[-18.285228656193382, -44.311065200834975, -4...\n",
              "..          ...  ...                                                ...\n",
              "684  PREDI_2635  ...  [[-29.5360234259978, -36.86138596075685, -35.6...\n",
              "685  PREDI_2677  ...  [[-19.049145108959845, -48.8134495289204, -48....\n",
              "686  PREDI_2677  ...  [[-20.706890052956254, -45.15509395403837, -45...\n",
              "687  PREDI_2725  ...  [[-38.18941969724684, -31.932473225833448, -33...\n",
              "688  PREDI_2725  ...  [[-37.02760573040751, -45.21937366131762, -45....\n",
              "\n",
              "[689 rows x 8 columns]"
            ]
          },
          "metadata": {},
          "execution_count": 14
        }
      ]
    },
    {
      "cell_type": "code",
      "metadata": {
        "id": "IR7yDQ-SouNX"
      },
      "source": [
        "#Lable encoding: 1 when Fatigue = True\n",
        "le = preprocessing.LabelEncoder()\n",
        "Android_women['fatigue'] = le.fit_transform(Android_women['fatigue'])\n",
        "y_women = Android_women['fatigue'].values"
      ],
      "execution_count": null,
      "outputs": []
    },
    {
      "cell_type": "code",
      "metadata": {
        "id": "FDoRzVu_kAIu"
      },
      "source": [
        "#create 3 channels for the spectrograms (VGG19 has been pretrained on images having 3 channels (RGB))\n",
        "spectro_women = Android_women[\"Spectrograms\"].values\n",
        "sp_women = []\n",
        "for x in spectro_women:\n",
        "  log_mel_spectrogram = np.stack([x, x, x], axis = -1)\n",
        "  sp_women.append(log_mel_spectrogram)\n",
        "X_spectro_women = np.array(sp_women, dtype=float)"
      ],
      "execution_count": null,
      "outputs": []
    },
    {
      "cell_type": "code",
      "metadata": {
        "id": "A7VedOmZkAGF",
        "colab": {
          "base_uri": "https://localhost:8080/"
        },
        "outputId": "1d59e971-fa3e-4b76-b856-3ba3111f3521"
      },
      "source": [
        "#call the VGG19 model\n",
        "vgg19 = VGG19(weights='imagenet',\n",
        "                  include_top=False,\n",
        "                  input_shape=(196, 196, 3))\n",
        "\n",
        "for layers in vgg19.layers:\n",
        "    layers.trainable=False\n",
        "\n",
        "print(vgg19.output)"
      ],
      "execution_count": null,
      "outputs": [
        {
          "output_type": "stream",
          "name": "stdout",
          "text": [
            "Downloading data from https://storage.googleapis.com/tensorflow/keras-applications/vgg19/vgg19_weights_tf_dim_ordering_tf_kernels_notop.h5\n",
            "80142336/80134624 [==============================] - 1s 0us/step\n",
            "80150528/80134624 [==============================] - 1s 0us/step\n",
            "KerasTensor(type_spec=TensorSpec(shape=(None, 6, 6, 512), dtype=tf.float32, name=None), name='block5_pool/MaxPool:0', description=\"created by layer 'block5_pool'\")\n"
          ]
        }
      ]
    },
    {
      "cell_type": "code",
      "metadata": {
        "id": "oSbVSV18kADt"
      },
      "source": [
        "#feature extraction\n",
        "features_women = vgg19.predict(X_spectro_women)\n",
        "feature_women = np.reshape(features_women,(-1,6*6*512))"
      ],
      "execution_count": null,
      "outputs": []
    },
    {
      "cell_type": "code",
      "metadata": {
        "id": "cJYUqCNYj_9c"
      },
      "source": [
        "#Splitting data into train (80%) and test (20%) sets\n",
        "X, X_test1, y_train, y_test = train_test_split(feature_women, y_women, test_size = 0.2, random_state = 1, stratify = y_women) #random_state is fixed to 1 to ensure reproducibility"
      ],
      "execution_count": null,
      "outputs": []
    },
    {
      "cell_type": "markdown",
      "metadata": {
        "id": "_gW7A8l2-oc-"
      },
      "source": [
        "##PCA reduction "
      ]
    },
    {
      "cell_type": "code",
      "metadata": {
        "id": "GQeajPOD6a-Y"
      },
      "source": [
        "pca = PCA()\n",
        "pca.fit(X)\n",
        "reduced = pca.transform(X)"
      ],
      "execution_count": null,
      "outputs": []
    },
    {
      "cell_type": "code",
      "metadata": {
        "id": "fH655L5V6a64"
      },
      "source": [
        "variance = pca.explained_variance_ratio_ \n",
        "var=np.cumsum(np.round(pca.explained_variance_ratio_, decimals=3)*100)"
      ],
      "execution_count": null,
      "outputs": []
    },
    {
      "cell_type": "code",
      "metadata": {
        "colab": {
          "base_uri": "https://localhost:8080/",
          "height": 313
        },
        "id": "yiUriw-x6a3i",
        "outputId": "afde4646-099a-4f50-e249-baa6cfadd708"
      },
      "source": [
        "plt.ylabel('% Variance Explained')\n",
        "plt.xlabel('No. of Features')\n",
        "plt.title('PCA Analysis')\n",
        "plt.plot(var)"
      ],
      "execution_count": null,
      "outputs": [
        {
          "output_type": "execute_result",
          "data": {
            "text/plain": [
              "[<matplotlib.lines.Line2D at 0x7fba304b81d0>]"
            ]
          },
          "metadata": {},
          "execution_count": 25
        },
        {
          "output_type": "display_data",
          "data": {
            "image/png": "[encoded data removed]",
            "text/plain": [
              "<Figure size 432x288 with 1 Axes>"
            ]
          },
          "metadata": {
            "needs_background": "light"
          }
        }
      ]
    },
    {
      "cell_type": "code",
      "metadata": {
        "id": "jwTyFdO86azw"
      },
      "source": [
        "pca = PCA(n_components=250)\n",
        "pca.fit(X)\n",
        "X_train = pca.transform(X)\n",
        "X_test = pca.transform(X_test1)"
      ],
      "execution_count": null,
      "outputs": []
    },
    {
      "cell_type": "markdown",
      "metadata": {
        "id": "q4SMswH6XjtL"
      },
      "source": [
        "# **Train ML models: VGG19 extracted and reduced features (Android female users)**"
      ]
    },
    {
      "cell_type": "markdown",
      "metadata": {
        "id": "iYMve6ZhXjtL"
      },
      "source": [
        "##Fine tune hyperparameters of ML models"
      ]
    },
    {
      "cell_type": "code",
      "metadata": {
        "id": "oaFpwD6vXjtL"
      },
      "source": [
        "classifier = LogisticRegression(class_weight = 'balanced', max_iter=1000)\n",
        "# Applying Grid Search to find the best parameters\n",
        "parameters = [{'C': [0.001, 0.01, 0.1, 1, 10, 100,1000], 'penalty': ['l1', 'l2']}]\n",
        "\n",
        "grid_search = GridSearchCV(estimator = classifier,\n",
        "                           param_grid = parameters,\n",
        "                           scoring = 'roc_auc',\n",
        "                           cv = 10,\n",
        "                           n_jobs = -1)\n",
        "grid_search = grid_search.fit(X_train, y_train)\n",
        "grid_search.best_params_"
      ],
      "execution_count": null,
      "outputs": []
    },
    {
      "cell_type": "code",
      "metadata": {
        "id": "SBIEUCEgXjtM"
      },
      "source": [
        "classifier = KNeighborsClassifier()\n",
        "# Applying Grid Search to find the best parameters\n",
        "parameters = [{'n_neighbors': [3, 5, 10], 'weights': ['uniform', 'distance']}]\n",
        "\n",
        "grid_search = GridSearchCV(estimator = classifier,\n",
        "                           param_grid = parameters,\n",
        "                           scoring = 'roc_auc',\n",
        "                           cv = 10,\n",
        "                           n_jobs = -1)\n",
        "grid_search = grid_search.fit(X_train, y_train)\n",
        "grid_search.best_params_"
      ],
      "execution_count": null,
      "outputs": []
    },
    {
      "cell_type": "code",
      "metadata": {
        "id": "hsvm6MbLXjtM"
      },
      "source": [
        "classifier = svm.SVC(kernel = 'rbf',class_weight = 'balanced', gamma='scale')\n",
        "parameters = {'C': [0.1,1, 10, 100]}\n",
        "grid_search = GridSearchCV(estimator = classifier,\n",
        "                           param_grid = parameters,\n",
        "                           scoring = 'roc_auc',\n",
        "                           cv = 10,\n",
        "                           n_jobs = -1)\n",
        "grid_search = grid_search.fit(X_train, y_train)\n",
        "grid_search.best_params_"
      ],
      "execution_count": null,
      "outputs": []
    },
    {
      "cell_type": "markdown",
      "metadata": {
        "id": "5lEVSpVAXjtM"
      },
      "source": [
        "##Training"
      ]
    },
    {
      "cell_type": "code",
      "metadata": {
        "id": "TEIpwDsMXjtM"
      },
      "source": [
        "# Model building to train\n",
        "# Change the hyperparameters according to the gridsearch results\n",
        "names = ['K Nearest Neighbors','Logistic regression', 'SVM rbf']\n",
        "Classifiers = [\n",
        "               KNeighborsClassifier(n_neighbors = 10, weights = 'distance'),\n",
        "               LogisticRegression(max_iter=10000, class_weight = 'balanced', C= 0.001, penalty= 'l2'), \n",
        "               svm.SVC(kernel = 'rbf', class_weight = 'balanced', C=10)\n",
        "              ]\n",
        "\n",
        "\n",
        "models = zip(names, Classifiers)\n",
        "\n",
        "from sklearn.model_selection import KFold, cross_val_score\n",
        "\n",
        "names = []\n",
        "result = []\n",
        "for name, model in models:\n",
        "  kfold = KFold(n_splits = 10, shuffle = True, random_state = 1)\n",
        "  cv_results = cross_val_score(model, X_train, y_train, cv = kfold, scoring = 'accuracy')\n",
        "  result.append(cv_results)\n",
        "  names.append(name)\n",
        "  msg = \"{0}: {1} ({2})\".format(name, cv_results.mean(), cv_results.std())\n",
        "  print(msg)"
      ],
      "execution_count": null,
      "outputs": []
    },
    {
      "cell_type": "code",
      "metadata": {
        "id": "SNE0MM_kXjtN"
      },
      "source": [
        "#classification report\n",
        "models = zip(names, Classifiers)\n",
        "for name, model in models:\n",
        "    model.fit(X_train, y_train)\n",
        "    y_pred = model.predict(X_test)\n",
        "    print(name)\n",
        "    print(accuracy_score(y_test, y_pred))\n",
        "    print(classification_report(y_test, y_pred))\n",
        "    #plot_confusion_matrix(model, X_test, y_test)\n",
        "    print(\"--------------------------------------------------------------------------\")"
      ],
      "execution_count": null,
      "outputs": []
    },
    {
      "cell_type": "code",
      "metadata": {
        "id": "Ayb7VEcGdaNy"
      },
      "source": [
        "#expected output\n",
        "\n",
        "K Nearest Neighbors\n",
        "0.7246376811594203\n",
        "              precision    recall  f1-score   support\n",
        "\n",
        "           0       0.70      0.87      0.78        38\n",
        "           1       0.77      0.55      0.64        31\n",
        "\n",
        "    accuracy                           0.72        69\n",
        "   macro avg       0.74      0.71      0.71        69\n",
        "weighted avg       0.73      0.72      0.72        69\n",
        "\n",
        "--------------------------------------------------------------------------\n",
        "Logistic regression\n",
        "0.7681159420289855\n",
        "              precision    recall  f1-score   support\n",
        "\n",
        "           0       0.81      0.76      0.78        38\n",
        "           1       0.73      0.77      0.75        31\n",
        "\n",
        "    accuracy                           0.77        69\n",
        "   macro avg       0.77      0.77      0.77        69\n",
        "weighted avg       0.77      0.77      0.77        69\n",
        "\n",
        "--------------------------------------------------------------------------\n",
        "SVM rbf\n",
        "0.7971014492753623\n",
        "              precision    recall  f1-score   support\n",
        "\n",
        "           0       0.80      0.84      0.82        38\n",
        "           1       0.79      0.74      0.77        31\n",
        "\n",
        "    accuracy                           0.80        69\n",
        "   macro avg       0.80      0.79      0.79        69\n",
        "weighted avg       0.80      0.80      0.80        69\n",
        "\n",
        "--------------------------------------------------------------------------"
      ],
      "execution_count": null,
      "outputs": []
    },
    {
      "cell_type": "code",
      "metadata": {
        "id": "RJ1qfanmXjtN"
      },
      "source": [
        "#Plot the confusion matrix for each model\n",
        "import matplotlib.pyplot as plt\n",
        "models = zip(names, Classifiers)\n",
        "for name, model in models:\n",
        "    #model.fit(X_train, y_train)\n",
        "    #y_pred = model.predict(X_test)\n",
        "    disp = plot_confusion_matrix(model, X_test, y_test,\n",
        "                                 cmap = plt.cm.Blues, values_format = '.5g')\n",
        "    disp.ax_.set_title(name)\n",
        "\n",
        "    print(name)\n",
        "    print(disp.confusion_matrix)\n",
        "    plt.show()"
      ],
      "execution_count": null,
      "outputs": []
    },
    {
      "cell_type": "markdown",
      "metadata": {
        "id": "AHPgbHJFdygq"
      },
      "source": [
        "![image.png](data:image/png;base64,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)\n",
        "\n",
        "![image.png](data:image/png;base64,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)\n",
        "\n",
        "![image.png](data:image/png;base64,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)"
      ]
    },
    {
      "cell_type": "code",
      "metadata": {
        "id": "PAodpNQnXjtN"
      },
      "source": [
        "#plot the aera under the curve AUC\n",
        "rom sklearn import datasets, metrics, model_selection\n",
        "models = zip(names, Classifiers)\n",
        "for name, model in models:\n",
        "    model.fit(X_train, y_train)\n",
        "    metrics.plot_roc_curve(model, X_test, y_test)  \n",
        "    plt.show()"
      ],
      "execution_count": null,
      "outputs": []
    },
    {
      "cell_type": "markdown",
      "metadata": {
        "id": "UwJ8kswweDiE"
      },
      "source": [
        "![image.png](data:image/png;base64,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)\n",
        "\n",
        "![image.png](data:image/png;base64,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)\n",
        "\n",
        "![image.png](data:image/png;base64,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)"
      ]
    },
    {
      "cell_type": "code",
      "metadata": {
        "id": "t9X6k9uedDwa"
      },
      "source": [
        ""
      ],
      "execution_count": null,
      "outputs": []
    },
    {
      "cell_type": "markdown",
      "metadata": {
        "id": "Xlf2snYTXjtN"
      },
      "source": [
        "### Voting classifier "
      ]
    },
    {
      "cell_type": "code",
      "metadata": {
        "colab": {
          "base_uri": "https://localhost:8080/"
        },
        "id": "BajYushkXjtN",
        "outputId": "85f09589-016d-48c5-d0ee-c20920b2c4d5"
      },
      "source": [
        "from sklearn.model_selection import KFold, cross_val_score, StratifiedKFold\n",
        "kfold = StratifiedKFold(n_splits = 10, random_state = 1, shuffle =True)\n",
        "\n",
        "estimators = []\n",
        "mod1 = LogisticRegression(max_iter=10000, class_weight = 'balanced', C= 0.001, penalty= 'l2')\n",
        "estimators.append(('lr', mod1))\n",
        "mod2 = svm.SVC(kernel = 'rbf', class_weight = 'balanced', C=10, probability=True)\n",
        "estimators.append(('RBF', mod2))\n",
        "#mod3 = svm.SVC(kernel = 'sigmoid', class_weight = 'balanced', C=0.1, probability=True)\n",
        "#estimators.append(('sigmoid', mod3))\n",
        "\n",
        "ensemble = VotingClassifier(estimators, voting = 'soft', weights = [2,2])\n",
        "results = cross_val_score(ensemble, X_train, y_train, cv = kfold, scoring = 'accuracy')\n",
        "\n",
        "print(results.mean(), results.std())"
      ],
      "execution_count": null,
      "outputs": [
        {
          "output_type": "stream",
          "name": "stdout",
          "text": [
            "0.6915343915343916 0.0590599207757892\n"
          ]
        }
      ]
    },
    {
      "cell_type": "code",
      "metadata": {
        "colab": {
          "base_uri": "https://localhost:8080/"
        },
        "id": "v4bBxQ1LXjtN",
        "outputId": "5f81c85f-d09e-46c7-d5f1-b846d0c5ee4a"
      },
      "source": [
        "emb = ensemble.fit(X_train, y_train)\n",
        "y_pred = emb.predict(X_test)\n",
        "print(accuracy_score(y_test, y_pred))\n",
        "print(classification_report(y_test, y_pred))"
      ],
      "execution_count": null,
      "outputs": [
        {
          "output_type": "stream",
          "name": "stdout",
          "text": [
            "0.782608695652174\n",
            "              precision    recall  f1-score   support\n",
            "\n",
            "           0       0.81      0.79      0.80        38\n",
            "           1       0.75      0.77      0.76        31\n",
            "\n",
            "    accuracy                           0.78        69\n",
            "   macro avg       0.78      0.78      0.78        69\n",
            "weighted avg       0.78      0.78      0.78        69\n",
            "\n"
          ]
        }
      ]
    },
    {
      "cell_type": "code",
      "metadata": {
        "colab": {
          "base_uri": "https://localhost:8080/",
          "height": 347
        },
        "id": "j90HKLVAXjtN",
        "outputId": "9597eba8-27a4-499f-8d55-938a6c15a1bb"
      },
      "source": [
        "import matplotlib.pyplot as plt\n",
        "disp = plot_confusion_matrix(ensemble, X_test, y_test,\n",
        "                                 cmap = plt.cm.Blues, values_format = '.5g')\n",
        "disp.ax_.set_title('Voting classifier')\n",
        "\n",
        "print('Voting classifier')\n",
        "print(disp.confusion_matrix)\n",
        "plt.show()"
      ],
      "execution_count": null,
      "outputs": [
        {
          "output_type": "stream",
          "name": "stdout",
          "text": [
            "Voting classifier\n",
            "[[30  8]\n",
            " [ 7 24]]\n"
          ]
        },
        {
          "output_type": "display_data",
          "data": {
            "image/png": "[encoded data removed]",
            "text/plain": [
              "<Figure size 432x288 with 2 Axes>"
            ]
          },
          "metadata": {
            "needs_background": "light"
          }
        }
      ]
    },
    {
      "cell_type": "code",
      "metadata": {
        "colab": {
          "base_uri": "https://localhost:8080/",
          "height": 279
        },
        "id": "X2_abxA9XjtN",
        "outputId": "e9afd334-81d3-4233-cb85-4e1c4da19f60"
      },
      "source": [
        "from sklearn import datasets, metrics, model_selection\n",
        "metrics.plot_roc_curve(ensemble, X_test, y_test)  \n",
        "plt.show()"
      ],
      "execution_count": null,
      "outputs": [
        {
          "output_type": "display_data",
          "data": {
            "image/png": "[encoded data removed]",
            "text/plain": [
              "<Figure size 432x288 with 1 Axes>"
            ]
          },
          "metadata": {
            "needs_background": "light"
          }
        }
      ]
    },
    {
      "cell_type": "markdown",
      "metadata": {
        "id": "IT9hMVFDXjtO"
      },
      "source": [
        "##Distribution box plot + student test for the best model selected"
      ]
    },
    {
      "cell_type": "code",
      "metadata": {
        "id": "z-yFKBh5XjtO"
      },
      "source": [
        "emb = mod2.fit(X_train, y_train) #mod2 (SVM) best model\n",
        "y_pred8 = emb.predict_proba(X_test)"
      ],
      "execution_count": null,
      "outputs": []
    },
    {
      "cell_type": "code",
      "metadata": {
        "id": "iulgWTCyXjtO"
      },
      "source": [
        "y_pred2 = y_pred8[:,1:] "
      ],
      "execution_count": null,
      "outputs": []
    },
    {
      "cell_type": "code",
      "metadata": {
        "colab": {
          "base_uri": "https://localhost:8080/",
          "height": 279
        },
        "id": "nzxAhtHoXjtO",
        "outputId": "a00661e7-cbca-4287-dd62-e549b8cde28e"
      },
      "source": [
        "import seaborn as sns\n",
        "import matplotlib.pyplot as plt\n",
        "y_pred2 = y_pred2.reshape(69,)\n",
        "sns.boxplot( x=y_test, y=y_pred2, palette=\"Blues\").set(\n",
        "    xlabel='Fatigue', \n",
        "    ylabel='predicted proba')\n",
        "plt.show()"
      ],
      "execution_count": null,
      "outputs": [
        {
          "output_type": "display_data",
          "data": {
            "image/png": "[encoded data removed]",
            "text/plain": [
              "<Figure size 432x288 with 1 Axes>"
            ]
          },
          "metadata": {
            "needs_background": "light"
          }
        }
      ]
    },
    {
      "cell_type": "code",
      "metadata": {
        "id": "I1yFjy-3XjtO"
      },
      "source": [
        "list_pred = y_pred2.tolist()\n",
        "list_label8 = y_test.tolist()"
      ],
      "execution_count": null,
      "outputs": []
    },
    {
      "cell_type": "code",
      "metadata": {
        "id": "5HhaxcWeXjtO"
      },
      "source": [
        "indices_1 = [i for i, x in enumerate(list_label8) if x == 1]\n",
        "indices_0 = [i for i, x in enumerate(list_label8) if x == 0]\n",
        "list_pred_1=[]\n",
        "for i in indices_1:\n",
        "  get_val1 = list_pred[i]\n",
        "  list_pred_1.append(get_val1)"
      ],
      "execution_count": null,
      "outputs": []
    },
    {
      "cell_type": "code",
      "metadata": {
        "id": "Opjs9ct7XjtO"
      },
      "source": [
        "list_pred_0=[]\n",
        "for i in indices_0:\n",
        "  get_val0 = list_pred[i]\n",
        "  list_pred_0.append(get_val0)"
      ],
      "execution_count": null,
      "outputs": []
    },
    {
      "cell_type": "code",
      "metadata": {
        "colab": {
          "base_uri": "https://localhost:8080/"
        },
        "id": "bfqljaNMXjtO",
        "outputId": "74440d92-3f95-4180-9292-9f47fa911cb6"
      },
      "source": [
        "from scipy.stats import ttest_ind\n",
        "# compare samples\n",
        "stat, p = ttest_ind(list_pred_0, list_pred_1)\n",
        "print('Statistics=%.5f, p=%.5f' % (stat, p))\n",
        "# interpret\n",
        "alpha = 0.05\n",
        "if p > alpha:\n",
        "\tprint('Same distributions (fail to reject H0)')\n",
        "else:\n",
        "\tprint('Different distributions (reject H0)')"
      ],
      "execution_count": null,
      "outputs": [
        {
          "output_type": "stream",
          "name": "stdout",
          "text": [
            "Statistics=-6.79991, p=0.00000\n",
            "Different distributions (reject H0)\n"
          ]
        }
      ]
    },
    {
      "cell_type": "code",
      "metadata": {
        "colab": {
          "base_uri": "https://localhost:8080/"
        },
        "id": "omjZxxnTXjtO",
        "outputId": "a2673c2c-d480-40ac-aed2-8656f671905c"
      },
      "source": [
        "p"
      ],
      "execution_count": null,
      "outputs": [
        {
          "output_type": "execute_result",
          "data": {
            "text/plain": [
              "3.449389650489302e-09"
            ]
          },
          "metadata": {},
          "execution_count": 64
        }
      ]
    },
    {
      "cell_type": "code",
      "metadata": {
        "id": "jVabSHDufKpC"
      },
      "source": [
        ""
      ],
      "execution_count": null,
      "outputs": []
    },
    {
      "cell_type": "markdown",
      "metadata": {
        "id": "c9hlR-ebfOmN"
      },
      "source": [
        "# **Train ML models: VGG19 extracted and reduced features (Android male users)**"
      ]
    },
    {
      "cell_type": "markdown",
      "metadata": {
        "id": "D91_iIwgfRlQ"
      },
      "source": [
        "##Fine tune hyperparameters of ML models"
      ]
    },
    {
      "cell_type": "code",
      "metadata": {
        "id": "ttSfWC5yfRlR"
      },
      "source": [
        "classifier = LogisticRegression(class_weight = 'balanced', max_iter=1000)\n",
        "# Applying Grid Search to find the best parameters\n",
        "parameters = [{'C': [0.001, 0.01, 0.1, 1, 10, 100,1000], 'penalty': ['l1', 'l2']}]\n",
        "\n",
        "grid_search = GridSearchCV(estimator = classifier,\n",
        "                           param_grid = parameters,\n",
        "                           scoring = 'roc_auc',\n",
        "                           cv = 10,\n",
        "                           n_jobs = -1)\n",
        "grid_search = grid_search.fit(X_train, y_train)\n",
        "grid_search.best_params_"
      ],
      "execution_count": null,
      "outputs": []
    },
    {
      "cell_type": "code",
      "metadata": {
        "id": "0zWywMJvfRlR"
      },
      "source": [
        "classifier = KNeighborsClassifier()\n",
        "# Applying Grid Search to find the best parameters\n",
        "parameters = [{'n_neighbors': [3, 5, 10], 'weights': ['uniform', 'distance']}]\n",
        "\n",
        "grid_search = GridSearchCV(estimator = classifier,\n",
        "                           param_grid = parameters,\n",
        "                           scoring = 'roc_auc',\n",
        "                           cv = 10,\n",
        "                           n_jobs = -1)\n",
        "grid_search = grid_search.fit(X_train, y_train)\n",
        "grid_search.best_params_"
      ],
      "execution_count": null,
      "outputs": []
    },
    {
      "cell_type": "code",
      "metadata": {
        "id": "szppCFFffRlS"
      },
      "source": [
        "classifier = svm.SVC(kernel = 'rbf',class_weight = 'balanced', gamma='scale')\n",
        "parameters = {'C': [0.1,1, 10, 100]}\n",
        "grid_search = GridSearchCV(estimator = classifier,\n",
        "                           param_grid = parameters,\n",
        "                           scoring = 'roc_auc',\n",
        "                           cv = 10,\n",
        "                           n_jobs = -1)\n",
        "grid_search = grid_search.fit(X_train, y_train)\n",
        "grid_search.best_params_"
      ],
      "execution_count": null,
      "outputs": []
    },
    {
      "cell_type": "markdown",
      "metadata": {
        "id": "Hxd6LWXdfW5s"
      },
      "source": [
        "##Training"
      ]
    },
    {
      "cell_type": "code",
      "metadata": {
        "id": "7hTWpGebfW5s"
      },
      "source": [
        "# Model building to train\n",
        "# Change the hyperparameters according to the gridsearch results\n",
        "names = ['K Nearest Neighbors','Logistic regression', 'SVM rbf']\n",
        "Classifiers = [\n",
        "               KNeighborsClassifier(n_neighbors = 10, weights = 'distance'),\n",
        "               LogisticRegression(max_iter=10000, class_weight = 'balanced', C= 0.001, penalty= 'l2'), \n",
        "               svm.SVC(kernel = 'rbf', class_weight = 'balanced', C=10)\n",
        "              ]\n",
        "\n",
        "\n",
        "models = zip(names, Classifiers)\n",
        "\n",
        "from sklearn.model_selection import KFold, cross_val_score\n",
        "\n",
        "names = []\n",
        "result = []\n",
        "for name, model in models:\n",
        "  kfold = KFold(n_splits = 10, shuffle = True, random_state = 1)\n",
        "  cv_results = cross_val_score(model, X_train, y_train, cv = kfold, scoring = 'accuracy')\n",
        "  result.append(cv_results)\n",
        "  names.append(name)\n",
        "  msg = \"{0}: {1} ({2})\".format(name, cv_results.mean(), cv_results.std())\n",
        "  print(msg)"
      ],
      "execution_count": null,
      "outputs": []
    },
    {
      "cell_type": "code",
      "metadata": {
        "id": "JSUJHz-SfW5s"
      },
      "source": [
        "#classification report\n",
        "models = zip(names, Classifiers)\n",
        "for name, model in models:\n",
        "    model.fit(X_train, y_train)\n",
        "    y_pred = model.predict(X_test)\n",
        "    print(name)\n",
        "    print(accuracy_score(y_test, y_pred))\n",
        "    print(classification_report(y_test, y_pred))\n",
        "    #plot_confusion_matrix(model, X_test, y_test)\n",
        "    print(\"--------------------------------------------------------------------------\")"
      ],
      "execution_count": null,
      "outputs": []
    },
    {
      "cell_type": "code",
      "metadata": {
        "id": "V85XUt4XfW5s"
      },
      "source": [
        "#expected output\n",
        "\n",
        "K Nearest Neighbors\n",
        "0.8260869565217391\n",
        "              precision    recall  f1-score   support\n",
        "\n",
        "           0       0.83      0.98      0.90        54\n",
        "           1       0.80      0.27      0.40        15\n",
        "\n",
        "    accuracy                           0.83        69\n",
        "   macro avg       0.81      0.62      0.65        69\n",
        "weighted avg       0.82      0.83      0.79        69\n",
        "\n",
        "--------------------------------------------------------------------------\n",
        "Logistic regression\n",
        "0.782608695652174\n",
        "              precision    recall  f1-score   support\n",
        "\n",
        "           0       0.87      0.85      0.86        54\n",
        "           1       0.50      0.53      0.52        15\n",
        "\n",
        "    accuracy                           0.78        69\n",
        "   macro avg       0.68      0.69      0.69        69\n",
        "weighted avg       0.79      0.78      0.79        69\n",
        "\n",
        "--------------------------------------------------------------------------\n",
        "SVM rbf\n",
        "0.8405797101449275\n",
        "              precision    recall  f1-score   support\n",
        "\n",
        "           0       0.88      0.93      0.90        54\n",
        "           1       0.67      0.53      0.59        15\n",
        "\n",
        "    accuracy                           0.84        69\n",
        "   macro avg       0.77      0.73      0.75        69\n",
        "weighted avg       0.83      0.84      0.83        69\n",
        "\n",
        "--------------------------------------------------------------------------"
      ],
      "execution_count": null,
      "outputs": []
    },
    {
      "cell_type": "code",
      "metadata": {
        "id": "YVXYh7ARfW5s"
      },
      "source": [
        "#Plot the confusion matrix for each model\n",
        "import matplotlib.pyplot as plt\n",
        "models = zip(names, Classifiers)\n",
        "for name, model in models:\n",
        "    #model.fit(X_train, y_train)\n",
        "    #y_pred = model.predict(X_test)\n",
        "    disp = plot_confusion_matrix(model, X_test, y_test,\n",
        "                                 cmap = plt.cm.Blues, values_format = '.5g')\n",
        "    disp.ax_.set_title(name)\n",
        "\n",
        "    print(name)\n",
        "    print(disp.confusion_matrix)\n",
        "    plt.show()"
      ],
      "execution_count": null,
      "outputs": []
    },
    {
      "cell_type": "markdown",
      "metadata": {
        "id": "bpCIgecQfnR5"
      },
      "source": [
        "![image.png](data:image/png;base64,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)\n",
        "\n",
        "![image.png](data:image/png;base64,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)\n",
        "\n",
        "![image.png](data:image/png;base64,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)"
      ]
    },
    {
      "cell_type": "code",
      "metadata": {
        "id": "ec_UB0lrfW5t"
      },
      "source": [
        "#plot the aera under the curve AUC\n",
        "rom sklearn import datasets, metrics, model_selection\n",
        "models = zip(names, Classifiers)\n",
        "for name, model in models:\n",
        "    model.fit(X_train, y_train)\n",
        "    metrics.plot_roc_curve(model, X_test, y_test)  \n",
        "    plt.show()"
      ],
      "execution_count": null,
      "outputs": []
    },
    {
      "cell_type": "markdown",
      "metadata": {
        "id": "8uMYeOWOf60R"
      },
      "source": [
        "![image.png](data:image/png;base64,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)\n",
        "\n",
        "![image.png](data:image/png;base64,iVBORw0KGgoAAAANSUhEUgAAAYIAAAEGCAYAAABo25JHAAAf+klEQVR4nO3de3gUVbrv8W8MURBCYCAeIwHCAO5tICEIgjmIXFREZEQUQZTRcTMio3hDPeCWkZtnq0cEDsreiODxMiOIF4aLCIonCI6DELAJAQRREBJgjFyDESTS+49VnXSSTqdyqW666/d5nn66bl39VgfqrbVW1VogIiIiIiIiIiIiIiIiIiIiIiLuEhPuAKqrWbNm3pSUlHCHISISUTZt2vQjkBhoXb0Qx1JrKSkpZGdnhzsMEZGIEhMT831l684LZSAiInLuUSIQEXE5JQIREZdTIhARcTklAhERl3MyEbwG/ADkVrI+BpgF7AZygMsdjEVERCrhZCJ4HegfZP0NQHvrNQr4LwdjERGRSjj5HMFaINiTX4OANwEvsB5oAiQBBx2MSUSi0Ntf7mOJJz/cYTgu9ZLGTPxdhzrfbzjbCFoA+/3m86xlgYwCsoHsgoICp+MSkQizxJPP9oMnwh1GxIqUJ4vnWi8SExO9YY5FRM5BqUmNeee+zHCHEZHCWSLIB1r6zSdby0REJITCmQiWAndh7h66EjiO2gdERELOyaqhBUBvoDmm/n8iEGetmwOsAAZgbh8tAu5xMBYREamEk4lgeBXrvcADDn6/iIjYoCeLRURcTolARMTllAhERFxOiUBExOWUCEREXE6JQETE5SKliwkRCbNzuWO37QdPkJrUONxhRCyVCETElnO5Y7fUpMYMyqisz0qpikoEImKbOnaLTioRiIi4nBKBiIjLKRGIiLicEoGIiMspEYiIuJwSgYiIyykRiIi4nBKBiIjLKRGIiLicEoGIiMspEYiIuJz6GhKppnO5F04nqYfP6KUSgUg1ncu9cDpJPXxGL5UIRGpAvXBKNFGJQETE5ZQIRERcTolARMTllAhERFxOiUBExOWUCEREXE6JQETE5ZQIRERczulE0B/YCewGxgdY3wrIAr4CcoABDscjIiLlOJkIYoHZwA1AKjDcevc3AVgEdAZuB/7TwXhERCQAJ7uY6IYpCXxnzS8EBgHb/bbxAr5erBKAAw7GE/Xc2hlaqKnzNYk2TpYIWgD7/ebzrGX+JgEjrHUrgAcr2dcoIBvILigoqOMwo4dbO0MLNXW+JtEm3J3ODQdeB14EMoG3gI7A2XLbzbVeJCYmekMZYKRRZ2giUl1OlgjygZZ+88nWMn8jMW0EAP8A6gPNHYxJRETKcTIRbATaA22A8zGNwUvLbbMPuMaavgyTCFT3IyISQk4mgmJgDLAK2IG58t8GTAFusrZ5DLgX2AIsAP6AaUAWEZEQcbqNYIX18ve03/R2oIfDMYiISBB6slhExOWUCEREXE6JQETE5ZQIRERcTolARMTllAhERFxOiUBExOWUCEREXE6JQETE5ZQIRERcrjqJ4ELHohARkbCxkwj+J6ZPoK+t+U5oSEkRkahhJxHMAK4HDlvzW4CrHYtIRERCym7V0P5y87/WdSAiIhIedrqh3o+pHvICccDDmPEFREQkCtgpEYwGHsAMPJ8PZAD3OxmUiIiEjp0Swb8Ad5Zb1gP4e92HIyIioWanRPCSzWUiIhKBgpUIMjFtA4nAWL/ljYFYJ4MSEZHQCZYIzgcaWdvE+y0/AQxxMigREQmdYIngM+v1OvB9aMIREZFQs9NYXAS8AHQA6vst7+tIRCIiElJ2Gov/iuleog0wGdgLbHQyKBERCR07iaAZMB84g6kq+jdUGhARiRp2qobOWO8HgRuBA8BvHItIRERCyk4ieAZIAB7DPD/QGHjEyaBERCR07CSC5db7caCPNd3DmXBERCTUgiWCWGAopo+hlUAuMBD4d6AB0Nnx6ERExHHBEsF8oCWwAZiFaRvoCowH/uZ8aCIiEgrBEkFXIB04i3l+4BDQltIBakREJAoEu330F0wSADgFfEf1k0B/YCewG1OSCGQoZijMbcDb1dy/iIjUUrASwb8COdZ0DKY0kGNNezGlhWBigdnAdUAe5iG0pZiTvk974ElM4/NR4KLqhS8iIrUVLBFcVst9d8OUBL6z5hcCgyibCO7FJIuj1vwPtfxOV3j7y30s8eRXWL794AlSkxqHISIRiWTBEkFtO5prQdmxjvOA7uW2udR6/zumBDEJc4dSeaOsFwUFBbUMK/It8eQHPOmnJjVmUEaLMEUlIpHKznMETn9/e6A3kAysBdKAY+W2m2u9SExM9IYywHNValJj3rkvM9xhiEgUsNPXUE3lY24/9Um2lvnLw7QbnAH2ALswiUFERELEbiJogBm7uDo2Yk7qbTCD3NyOOen7+xumNADQHFNV9B0iIhIydhLB7wAPpXX3GVQ8oQdSDIwBVgE7gEWYW0SnADdZ26zC3JK6HcgCnkDPKYiIhJSdNoJJmDuA1ljzHsxVvh0rrJe/p/2mvZjxkMciIiJhYadEcAbT4Zw/NdiKiEQJO4lgG3AH5vbO9piuqL9wMigREQkdO4ngQcx4xacxXUAcR+MRiIhEDTttBP8KPGW9REQkytgpEbyIuetnKtDR2XBERCTU7CSCPtarAHgF2ApMcDIoEREJHbtdTBzCDE6TBfwvzC2gzzgV1Lmqss7eQk2dy4lIXbJTIrgM8yzBVkrvGEp2Mqhzla+zt3BT53IiUpfslAheA94BrscMV+lq6uxNRKKNnUSgs56ISBQLlggWYYaR3ErZJ4ntjlAmIiIRIFgieNh6HxiKQEREJDyCNRYftN7vx4xW5v+63+G4REQkROzcNXRdgGU31HUgIiISHsGqhv6EufL/LZDjtzweM8awiIhEgWCJ4G3gI+BZYLzf8kLgiJNBiYhI6ARLBF5gL/BAgHW/QclARCQqVFUiGAhswiSFGL91XkyVkYiIRLhgicB326jdYSlFRCQC2blrqAfQ0JoeAUwHWjkWkYiIhJSdRPBfQBHQCXgM+BZ4y8mgREQkdOwkgmJMm8Ag4GVgNuYWUhERiQJ2Op0rBJ4Efg/0xCSPOCeDEhGR0LFTIhiGGbj+3zAD1CQDLzgZlIiIhI6dRHAI+CuQgLmT6BTwppNBiYhI6NhJBEOBDcBt1vSXwBAngxIRkdCx00bwFHAF8IM1nwisBt5zKigREQkdOyWC8yhNAgCHbX5OREQigJ0SwUpgFbDAmh8GrHAsIhERCSk7ieAJ4BbgKmt+LrDYsYhERCSkgiWC9sA0oC1m3OLHgfxQBCUiIqETrK7/NWA5cCumB9KXarD//sBOYDdlxzQo71bM08tda/AdIiJSC8FKBPHAq9b0TmBzNfcdi+mO4jogD9gILAW2B/iehzG3pYqISIgFSwT1gc6UjkPQoNx8VYmhG6Yk8J01vxDTX1H5RDAVeB7TFhFyb3+5jyUeezVe2w+eIDWpscMRiYiEVrBEcBDT5bTPIb95L9C3in23APb7zecB3cttcznQEviQ4IlglPWioKCgiq+tniWefNsn+NSkxgzKaFGn3y8iEm7BEkEfh7/7PExi+YONbedaLxITE711HUhqUmPeuS+zrncrIhIRnHwwLB9zte+TTNm7juKBjsAazNjIV2LaENRgLCISQk4mgo2YW1DbAOcDt2NO9D7HgeZAivVaD9wEZDsYk4iIlONkIigGxmCeSt4BLAK2AVMwJ3wRETkH2HmyOAa4E/gt5iTeCrgY0yNpVVZQsTuKpyvZtreN/YmISB2zUyL4TyATGG7NF2KeDxARkShgp0TQHXOb51fW/FFMnb+IiEQBOyWCM5inhH23bSYCZx2LSEREQspOIpiF6W30IuB/A58D/+FkUCIiEjp2qob+iul07hpMw/HNmLuAREQkCthJBK2AImBZuWX7HIlIRERCyk4i+BDTPhCD6YiuDaY30g4OxiUiIiFiJxGklZu/HLjfgVhERCQMavJk8WYq9iIqIiIRyk6JYKzf9HmYEsEBZ8IREZFQs5MI4v2mizFtBu87E46IiIRaVYkgFpMIHg9BLCIiEgbB2gjqAb8CPUIUi4iIhEGwEsEGTHuABzOOwLvAT37rP3AwLhERCRE7bQT1gcOYMYp9zxN4USIQEYkKwRLBRZg7hnIpTQA+dT5usIiIhEewRBALNKJsAvBRIhARiRLBEsFBzIhkIiISxYLdNRSoJCAiIlEmWCK4JmRRiIhI2ARLBEdCFoWIiIRNTTqdExGRKKJEICLickoEIiIup0QgIuJySgQiIi6nRCAi4nJKBCIiLqdEICLickoEIiIu53Qi6A/sBHYD4wOsHwtsB3KAT4HWDscjIiLlOJkIYoHZwA1AKjDcevf3FdAVSAfeA/6Pg/GIiEgAdkYoq6lumJLAd9b8QmAQpgTgk+U3vR4Y4VQwb3+5jyWe/ArLtx88QWpSY6e+VkTknOdkiaAFsN9vPs9aVpmRwEeVrBsFZAPZBQUFNQpmiSef7QdPVFiemtSYQRnBwhIRiW5OlgiqYwSmiqhXJevnWi8SExNrPDpaalJj3rkvs6YfFxGJSk4mgnygpd98srWsvGuBpzBJ4LSD8YiISABOVg1tBNoDbYDzgduBpeW26Qy8AtwE/OBgLCIiUgknE0ExMAZYBewAFgHbMOMg32Rt8wLQCHgX8FAxUYiIiMOcbiNYYb38Pe03fa3D3y8iIlXQk8UiIi6nRCAi4nJKBCIiLqdEICLickoEIiIup0QgIuJySgQiIi6nRCAi4nJKBCIiLqdEICLickoEIiIup0QgIuJySgQiIi6nRCAi4nJKBCIiLqdEICLickoEIiIup0QgIuJySgQiIi6nRCAi4nJKBCIiLlcv3AGI1MaZM2fIy8vj1KlT4Q5F5JxQv359kpOTiYuLs/0ZJQKJaHl5ecTHx5OSkkJMTEy4wxEJK6/Xy+HDh8nLy6NNmza2P6eqIYlop06dolmzZkoCIkBMTAzNmjWrdglZiUAinpKASKma/H9QIhARcTklApFaatSoUa33kZ2dzUMPPVTp+r179/L222/b3h4gJSWFtLQ00tPT6dWrF99//32t46wrc+bM4c0336yTfR08eJCBAweWWfbII4/QokULzp49W7Js0qRJTJs2rcx2KSkp/PjjjwAcOnSI22+/nbZt29KlSxcGDBjArl27ahXb6dOnGTZsGO3ataN79+7s3bs34HYzZsygQ4cOdOzYkeHDh5dU7bz88su0a9eOmJiYkjgBli9fztNPP12r2PwpEYicA7p27cqsWbMqXV8+EVS1vU9WVhY5OTn07t2bZ555ptZxer3eMifXmho9ejR33XVXrfcDMH36dO69996S+bNnz7J48WJatmzJZ599ZmsfXq+XwYMH07t3b7799ls2bdrEs88+yz//+c9axTZ//nyaNm3K7t27efTRRxk3blyFbfLz85k1axbZ2dnk5uby66+/snDhQgB69OjB6tWrad26dZnP3HjjjSxbtoyioqJaxeeju4Ykakxeto3tB07U6T5TL2nMxN91qPbnPB4Po0ePpqioiLZt2/Laa6/RtGlTNm7cyMiRIznvvPO47rrr+Oijj8jNzWXNmjVMmzaN5cuX89lnn/Hwww8Dpr537dq1jB8/nh07dpCRkcHdd99N586dS7Y/efIkDz74INnZ2cTExDBx4kRuvfXWMvFkZmaWJI6CggJGjx7Nvn37AJg5cyY9evSgoKCAO+64gwMHDpCZmcknn3zCpk2bOHnyJNdffz3du3dn06ZNrFixgkWLFrFo0SJOnz7N4MGDmTx5Mj/99BNDhw4lLy+PX3/9lT//+c8MGzaM8ePHs3TpUurVq0e/fv2YNm0akyZNolGjRjz++OOV/la9e/eme/fuZGVlcezYMebPn0/Pnj0r/Nbvv/9+mSS3Zs0aOnTowLBhw1iwYAF9+vSp8u+VlZVFXFwco0ePLlnWqVOnav/dy1uyZAmTJk0CYMiQIYwZMwav11uhHr+4uJiff/6ZuLg4ioqKuOSSSwDo3LlzwP3GxMTQu3dvli9fztChQ2sdp0oEIg646667eP7558nJySEtLY3JkycDcM899/DKK6/g8XiIjY0N+Nlp06Yxe/ZsPB4P69ato0GDBjz33HP07NkTj8fDo48+Wmb7qVOnkpCQwNatW8nJyaFv374V9rly5UpuvvlmAB5++GEeffRRNm7cyPvvv88f//hHACZPnkzfvn3Ztm0bQ4YMKUkUAN988w33338/27ZtY+fOnXzzzTds2LABj8fDpk2bWLt2LStXruSSSy5hy5Yt5Obm0r9/fw4fPszixYvZtm0bOTk5TJgwwfZvBeYEuWHDBmbOnFlmuc+ePXto2rQpF1xwQcmyBQsWMHz4cAYPHsyHH37ImTNnKv07+eTm5tKlS5cqtwPo2bMnGRkZFV6rV6+usG1+fj4tW7YEoF69eiQkJHD48OEy27Ro0YLHH3+cVq1akZSUREJCAv369asyjq5du7Ju3TpbMVdFJQKJGjW5cnfC8ePHOXbsGL169QLg7rvv5rbbbuPYsWMUFhaSmZkJwB133MHy5csrfL5Hjx6MHTuWO++8k1tuuYXk5OSg37d69eqSqgSApk2blkz36dOHI0eO0KhRI6ZOnVqy/fbt20u2OXHiBCdPnuTzzz9n8eLFAPTv37/Mflq3bs2VV14JwMcff8zHH39ccrV68uRJvvnmG3r27Mljjz3GuHHjGDhwID179qS4uJj69eszcuRIBg4cWKEuv7LfyueWW24BoEuXLgHr1w8ePEhiYmLJ/C+//MKKFSuYPn068fHxdO/enVWrVjFw4MBK76ap7l02dXXy9Tl69ChLlixhz549NGnShNtuu42//OUvjBgxIujnLrroIg4cOFAnMThdIugP7AR2A+MDrL8AeMda/yWQ4nA8Iue88ePHM2/ePH7++Wd69OjB119/XeN9ZWVl8f3335ORkcHEiRMBU4e+fv16PB4PHo+H/Pz8Khu8GzZsWDLt9Xp58sknSz6/e/duRo4cyaWXXsrmzZtJS0tjwoQJTJkyhXr16rFhwwaGDBnC8uXL6d+/f7Xi913px8bGUlxcXGF9gwYNytwzv2rVKo4dO0ZaWhopKSl8/vnnLFiwAIBmzZpx9OjRMp8vLCykSZMmdOjQgU2bNtmKqTolghYtWrB//37AlG6OHz9Os2bNymyzevVq2rRpQ2JiInFxcdxyyy188cUXVcZx6tQpGjRoYCvmqjiZCGKB2cANQCow3Hr3NxI4CrQDZgDPOxiPSEgkJCTQtGnTkivHt956i169etGkSRPi4+P58ssvAcpcxfv79ttvSUtLY9y4cVxxxRV8/fXXxMfHU1hYGHD76667jtmzZ5fMlz/Z1atXj5kzZ/Lmm29y5MgR+vXrx0svvVSy3uPxAKYksmjRIsBc9Zffj8/111/Pa6+9xsmTJwFT/fHDDz9w4MABLrzwQkaMGMETTzzB5s2bOXnyJMePH2fAgAHMmDGDLVu22Pqt7Lr00kvLlBQWLFjAvHnz2Lt3L3v37mXPnj188sknFBUVcfXVV7N06dKS3/GDDz6gU6dOxMbG0rdvX06fPs3cuXNL9pWTkxPw6n/dunUlSdD/de2111bY9qabbuKNN94A4L333qNv374VSiCtWrVi/fr1FBUV4fV6+fTTT7nsssuqPPZdu3bRsWNHez9UFZxMBN0wV/rfAb8AC4FB5bYZBLxhTb8HXAPo6SCJKEVFRSQnJ5e8pk+fzhtvvMETTzxBeno6Ho+n5Fa/+fPnc++995KRkcFPP/1EQkJChf3NnDmTjh07kp6eTlxcHDfccAPp6enExsbSqVMnZsyYUWb7CRMmcPToUTp27EinTp3IysqqsM+kpCSGDx/O7NmzS+5QSU9PJzU1lTlz5gAwceJEPv74Yzp27Mi7777LxRdfTHx8fIV99evXjzvuuIPMzEzS0tIYMmQIhYWFbN26lW7dupGRkcHkyZOZMGEChYWFDBw4kPT0dK666iqmT59eYX+V/VZ2NGzYkLZt27J7926KiopYuXIlN954Y5n1V111FcuWLSM9PZ0xY8Zw1VVXkZGRwZw5c5g3bx5gqocWL17M6tWradu2LR06dODJJ5/k4osvth1LICNHjuTw4cO0a9eO6dOn89xzzwFw4MABBgwYAED37t0ZMmQIl19+OWlpaZw9e5ZRo0YBMGvWLJKTk8nLyyM9Pb2kPQdMac//WM9VQ4B5fvO/B14ut00u4F8B+i3QPMC+RgHZQHarVq28NTFpaa530tLcGn1Wzl3bt28PdwjVUlhYWDL97LPPeh966KEwRlPWqVOnvGfOnPF6vV7vF1984e3UqVOYI7Lngw8+8D711FPhDiOkDh065O3bt2+l6wP9v7DOoQFFSmPxXOtFYmKityY7OFcaEsXdPvzwQ5599lmKi4tp3bo1r7/+erhDKrFv3z6GDh3K2bNnOf/883n11VfDHZItgwcPrnAnTrTbt28fL774Yp3tz8lEkA+09JtPtpYF2ibPiiUBcNdfVFxl2LBhDBs2LNxhBNS+fXu++uqrcIdRI/5VJm5wxRVX1On+nGwj2Ai0B9oA5wO3A0vLbbMUuNuaHgL8f6BGV/ziXqbUKyJQs/8PTiaCYmAMsArYASwCtgFTgJusbeYDzTCNymMJfIupSKXq16/P4cOHlQxEKB2PoH79+tX6XMTdodOlSxdvdnalbR7iMhqhTKSsykYoi4mJ2QR0DfSZSGksFgkoLi6uWiMxiUhF6mtIRMTllAhERFxOiUBExOUirrEYKABqOtRSc+DHKreKLjpmd9Axu0Ntjrk1kFjlVi7gxtuNdMzuoGN2B0eOWVVDIiIup0QgIuJygcfKi272Rp+ILjpmd9Axu4Mbj1lERERERERERKQ6+gM7Mb2aBurR9ALgHWv9l0BK6EJzTFXHPBbYDuQAn2LuKY50VR2zz62Y7s0DdrgVYewc81DM33ob8HaI4nJSVcfcCsgCvsL8+x4QutAc8RrwA2YEx0BigFmY3yMHuDxEcUWUWMyQl7/FjIOwBUgtt839wBxr+nZMUohkdo65D3ChNf0n3HHMAPHAWmA9kZ8I7Bxze8wJsak1f1HIonOGnWOei/k3jbVuL5HtaszJvbJEMAD4CJMQrsRczNZKNN4+2g2TKb8DfgEWAoPKbTMIeMOafg+4hsh8ytrHzjFnAUXW9HrKjhUdiewcM8BU4HkgGvqptnPM9wKzgaPW/A8hi84Zdo7ZCzS2phOAAyGLzhlrgSNB1g8C3sQc93qgCZBUmy+MxkTQAtjvN59nLatsm2LgOGaAnEhl55j9jcRcUUQyO8d8OWYo1A9DFZTD7Bzzpdbr75iTRP/QhOYYO8c8CRhhrVsBPBia0MKmuv/fq6TxCNxnBKaKpFe4A3HYecB04A/hDiTE6mGqh3pjSn1rgTTgWDiDcthw4HXgRSATeAvoCJwNZ1CRJBpLBPmYq0CfZGtZZdvUwxQnDzsfmmPsHDPAtcBTmKFCT4cgLidVdczxmJPBGkyd8ZWYMbIjuZ3Azt85D3OcZ4A9wC5MYohUdo55JGYoXIB/APUxnbNFK7v/312tHqY+sQ2ljUsdym3zAGUbixcR2ewcc2dMo1sknxT82Tlmf2uI7CQA9o65P6XtX80xVQiRXO1p55g/orTkdxmmjSCS2/zA3MlYWWPxjZRtLN4QqqAizQDMldC3mCtggCmYK2EwVwzvYhqhNmDuSIh0VR3zauCfgMd6LQ11gA6o6pj9RUMigKqPOQZTJbYd2Iq50Il0VR1zKqZNZAvm33a/UAdYxxYABzGlujxMiWe09QLzN56N+T22Eh3/rkVERERERERERERERERERERERESAXym91dVD8B5iT9bB972OeQDLA2zGPKFaXfMo7RDt38ut+6LmoZXh+11ygWWYfmaCySDye+MUEZeqzsm9rhLBEGu6H6Z739qoi5iq2u8blN5XX5k/AC87FItEiWjsYkKiUyPMOAqbMQ/RBOppNAnTt47virmntbwfpuuBzZgHCRtV8V1rgXbW9FhrX7nAI9ayhpiO7LZYy4dZy30PrT0HNLDi+Ku1zncCX4h5MtTHl4BigReAjZgkdF8VMWIdk6+zsW7W/FeY0se/YJ7EnWLF57HeG2L6u99gbRvodxQROSf4Vw0txnQ14OtquDnmqXBfNwK+k+xjlF4hx2L6G2qOObE3tJaPA54O8H3+JYLbMH28d8EknYaY5LEN01XHrcCrfp9NsN79n14uXyLwzQ+mtAuI8zFdQDQARgETrOUXANmYbhXK8+0nFpPUfL2LNqa0E8lrgfet6fIlgv/AdDwIplppF6W/jbiUeh+Vc9XPmPptnzjMSexqTK+SLYD/ARzy22Yj5mo3DvgbJon0orQLAjAn339U8p0vYE7GBZjH+q/BJKGfrPUfYEoZKzE9XT4PLAfWVeO4PgL+L+Zk3x+TpH7GlFrSKU1GCZh+ofaU+7yvpNEC2AF84rf9G9ZnvJjfIJB+mK4ZHrfm62NG+NpRjWOQKKNEIJHiTiARc5V+BtOjaP1y26zFJIobMVf40zEDtHyC6aq4Kk9gBiryuaaS7XZhxjoYADyDqbKaYucgMAPkrAGux1TVLLSWx2D60V9Vxed9CfJCa9sHMMMWTsUMPjQY07C+ppLPx2BKNDttxisuoDYCiRQJmNG2zmCG3Qw05nJrTMd6r2Lu4LkcMzhLD0rr/BtiBm6xYx1wM+ak2xBzkl0HXIIZ7e0vmFJEoDFjz1D5Vfk7wD2Uli7AnNT/5PeZSwleZVMEPISpDvN1pe7rith/DIZCTBWZzypMwvFVq3UO8h0iImFVvo69OaZKZyvw/zBVGSnltr0b03j7FeaE7atj70tpI2wOgXsn9W8j8Beosfh6az8ea7++dgH/NoLnrRjLNxaDOdkfsY7D5zxM1ddW67uyKG178Ff+d1kG/B5zu+suzLE/Q+m4vb+xYvQ1FjcAXrG+ZxumaktERERERERERERERERERERERERERERERERc4r8B0EUzeSxUHuYAAAAASUVORK5CYII=)\n",
        "\n",
        "![image.png](data:image/png;base64,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)"
      ]
    },
    {
      "cell_type": "markdown",
      "metadata": {
        "id": "Yxeem8TsUEUO"
      },
      "source": [
        "### Voting classifier "
      ]
    },
    {
      "cell_type": "code",
      "metadata": {
        "colab": {
          "base_uri": "https://localhost:8080/"
        },
        "id": "qMfp06F8UEUP",
        "outputId": "1fac07f6-2211-4a1e-e001-78c371fbd28b"
      },
      "source": [
        "from sklearn.model_selection import KFold, cross_val_score, StratifiedKFold\n",
        "kfold = StratifiedKFold(n_splits = 10, random_state = 1, shuffle =True)\n",
        "\n",
        "estimators = []\n",
        "mod1 = LogisticRegression(max_iter=10000, class_weight = 'balanced', C= 0.001, penalty= 'l2')\n",
        "estimators.append(('lr', mod1))\n",
        "mod2 = svm.SVC(kernel = 'rbf', class_weight = 'balanced', C=10, probability=True)\n",
        "estimators.append(('RBF', mod2))\n",
        "#mod3 = svm.SVC(kernel = 'sigmoid', class_weight = 'balanced', C=1, probability=True)\n",
        "#estimators.append(('sigmoid', mod3))\n",
        "\n",
        "ensemble = VotingClassifier(estimators, voting = 'soft', weights = [1,2])\n",
        "results = cross_val_score(ensemble, X_train, y_train, cv = kfold, scoring = 'accuracy')\n",
        "\n",
        "print(results.mean(), results.std())"
      ],
      "execution_count": null,
      "outputs": [
        {
          "output_type": "stream",
          "name": "stdout",
          "text": [
            "0.8585978835978837 0.06946006375115282\n"
          ]
        }
      ]
    },
    {
      "cell_type": "code",
      "metadata": {
        "colab": {
          "base_uri": "https://localhost:8080/"
        },
        "id": "nvzWp_BUUEUP",
        "outputId": "8a250ee0-91e6-48fe-b090-bd48644a57e0"
      },
      "source": [
        "emb = ensemble.fit(X_train, y_train)\n",
        "y_pred = emb.predict(X_test)\n",
        "print(accuracy_score(y_test, y_pred))\n",
        "print(classification_report(y_test, y_pred))"
      ],
      "execution_count": null,
      "outputs": [
        {
          "output_type": "stream",
          "name": "stdout",
          "text": [
            "0.8405797101449275\n",
            "              precision    recall  f1-score   support\n",
            "\n",
            "           0       0.89      0.91      0.90        54\n",
            "           1       0.64      0.60      0.62        15\n",
            "\n",
            "    accuracy                           0.84        69\n",
            "   macro avg       0.77      0.75      0.76        69\n",
            "weighted avg       0.84      0.84      0.84        69\n",
            "\n"
          ]
        }
      ]
    },
    {
      "cell_type": "code",
      "metadata": {
        "colab": {
          "base_uri": "https://localhost:8080/",
          "height": 347
        },
        "id": "GYO6asO_UEUP",
        "outputId": "f78212d8-1b76-4e61-c5d7-6d36642d33ea"
      },
      "source": [
        "import matplotlib.pyplot as plt\n",
        "disp = plot_confusion_matrix(ensemble, X_test, y_test,\n",
        "                                 cmap = plt.cm.Blues, values_format = '.5g')\n",
        "disp.ax_.set_title('Voting classifier')\n",
        "\n",
        "print('Voting classifier')\n",
        "print(disp.confusion_matrix)\n",
        "plt.show()"
      ],
      "execution_count": null,
      "outputs": [
        {
          "output_type": "stream",
          "name": "stdout",
          "text": [
            "Voting classifier\n",
            "[[49  5]\n",
            " [ 6  9]]\n"
          ]
        },
        {
          "output_type": "display_data",
          "data": {
            "image/png": "[encoded data removed]",
            "text/plain": [
              "<Figure size 432x288 with 2 Axes>"
            ]
          },
          "metadata": {
            "needs_background": "light"
          }
        }
      ]
    },
    {
      "cell_type": "code",
      "metadata": {
        "colab": {
          "base_uri": "https://localhost:8080/",
          "height": 279
        },
        "id": "8QsdKFArUEUP",
        "outputId": "169d098e-be68-420e-d47c-fe1cb465e4e1"
      },
      "source": [
        "from sklearn import datasets, metrics, model_selection\n",
        "metrics.plot_roc_curve(ensemble, X_test, y_test)  \n",
        "plt.show()"
      ],
      "execution_count": null,
      "outputs": [
        {
          "output_type": "display_data",
          "data": {
            "image/png": "[encoded data removed]",
            "text/plain": [
              "<Figure size 432x288 with 1 Axes>"
            ]
          },
          "metadata": {
            "needs_background": "light"
          }
        }
      ]
    },
    {
      "cell_type": "code",
      "metadata": {
        "id": "kOW8SCcpUEUP"
      },
      "source": [
        ""
      ],
      "execution_count": null,
      "outputs": []
    },
    {
      "cell_type": "markdown",
      "metadata": {
        "id": "EXH3XJHMUEUP"
      },
      "source": [
        "##Distribution box plot + student test"
      ]
    },
    {
      "cell_type": "code",
      "metadata": {
        "id": "i8_lzhQPUEUQ"
      },
      "source": [
        "emb = ensemble.fit(X_train, y_train)\n",
        "y_pred8 = emb.predict_proba(X_test)"
      ],
      "execution_count": null,
      "outputs": []
    },
    {
      "cell_type": "code",
      "metadata": {
        "id": "wbMwJJC3UEUQ"
      },
      "source": [
        "y_pred2 = y_pred8[:,1:] "
      ],
      "execution_count": null,
      "outputs": []
    },
    {
      "cell_type": "code",
      "metadata": {
        "colab": {
          "base_uri": "https://localhost:8080/",
          "height": 279
        },
        "id": "D7nTDdUXUEUQ",
        "outputId": "ee10e372-cc51-46ce-9711-233146ef8a19"
      },
      "source": [
        "import seaborn as sns\n",
        "import matplotlib.pyplot as plt\n",
        "y_pred2 = y_pred2.reshape(69,)\n",
        "sns.boxplot( x=y_test, y=y_pred2, palette=\"Blues\").set(\n",
        "    xlabel='Fatigue', \n",
        "    ylabel='predicted proba')\n",
        "plt.show()"
      ],
      "execution_count": null,
      "outputs": [
        {
          "output_type": "display_data",
          "data": {
            "image/png": "[encoded data removed]",
            "text/plain": [
              "<Figure size 432x288 with 1 Axes>"
            ]
          },
          "metadata": {
            "needs_background": "light"
          }
        }
      ]
    },
    {
      "cell_type": "code",
      "metadata": {
        "colab": {
          "base_uri": "https://localhost:8080/",
          "height": 279
        },
        "id": "EaFILjrxUEUQ",
        "outputId": "c8945848-bcd3-4e80-e8e2-66ebbd194b2b"
      },
      "source": [
        "import seaborn as sns\n",
        "import matplotlib.pyplot as plt\n",
        "y_pred2 = y_pred2.reshape(69,)\n",
        "sns.boxplot( x=y_test, y=y_pred2, palette=\"Blues\", showfliers=False).set(\n",
        "    xlabel='Fatigue', \n",
        "    ylabel='predicted proba')\n",
        "plt.show()"
      ],
      "execution_count": null,
      "outputs": [
        {
          "output_type": "display_data",
          "data": {
            "image/png": "[encoded data removed]",
            "text/plain": [
              "<Figure size 432x288 with 1 Axes>"
            ]
          },
          "metadata": {
            "needs_background": "light"
          }
        }
      ]
    },
    {
      "cell_type": "code",
      "metadata": {
        "colab": {
          "base_uri": "https://localhost:8080/"
        },
        "id": "Wm3D8B2NUEUQ",
        "outputId": "0b4affe3-0fe9-4bfe-979f-9f75236c5e6b"
      },
      "source": [
        "from scipy.stats import ttest_ind\n",
        "# compare samples\n",
        "stat, p = ttest_ind(y_test, y_pred2)\n",
        "print('Statistics=%.5f, p=%.5f' % (stat, p))\n",
        "# interpret\n",
        "alpha = 0.05\n",
        "if p > alpha:\n",
        "\tprint('Same distributions (fail to reject H0)')\n",
        "else:\n",
        "\tprint('Different distributions (reject H0)')"
      ],
      "execution_count": null,
      "outputs": [
        {
          "output_type": "stream",
          "name": "stdout",
          "text": [
            "Statistics=-0.86116, p=0.39066\n",
            "Same distributions (fail to reject H0)\n"
          ]
        }
      ]
    },
    {
      "cell_type": "code",
      "metadata": {
        "id": "0Q7-ecB6UEUQ"
      },
      "source": [
        "list_pred = y_pred2.tolist()\n",
        "list_label8 = y_test.tolist()"
      ],
      "execution_count": null,
      "outputs": []
    },
    {
      "cell_type": "code",
      "metadata": {
        "id": "ARDAYSwAUEUQ"
      },
      "source": [
        "indices_1 = [i for i, x in enumerate(list_label8) if x == 1]\n",
        "indices_0 = [i for i, x in enumerate(list_label8) if x == 0]\n",
        "list_pred_1=[]\n",
        "for i in indices_1:\n",
        "  get_val1 = list_pred[i]\n",
        "  list_pred_1.append(get_val1)"
      ],
      "execution_count": null,
      "outputs": []
    },
    {
      "cell_type": "code",
      "metadata": {
        "id": "DTNotfdSUEUQ"
      },
      "source": [
        "list_pred_0=[]\n",
        "for i in indices_0:\n",
        "  get_val0 = list_pred[i]\n",
        "  list_pred_0.append(get_val0)"
      ],
      "execution_count": null,
      "outputs": []
    },
    {
      "cell_type": "code",
      "metadata": {
        "colab": {
          "base_uri": "https://localhost:8080/"
        },
        "id": "XwTj7CjAUEUQ",
        "outputId": "361b2f11-e516-4bdd-d2e1-409514f505c6"
      },
      "source": [
        "from scipy.stats import ttest_ind\n",
        "# compare samples\n",
        "stat, p = ttest_ind(list_pred_0, list_pred_1)\n",
        "print('Statistics=%.5f, p=%.5f' % (stat, p))\n",
        "# interpret\n",
        "alpha = 0.05\n",
        "if p > alpha:\n",
        "\tprint('Same distributions (fail to reject H0)')\n",
        "else:\n",
        "\tprint('Different distributions (reject H0)')"
      ],
      "execution_count": null,
      "outputs": [
        {
          "output_type": "stream",
          "name": "stdout",
          "text": [
            "Statistics=-5.50097, p=0.00000\n",
            "Different distributions (reject H0)\n"
          ]
        }
      ]
    },
    {
      "cell_type": "code",
      "metadata": {
        "colab": {
          "base_uri": "https://localhost:8080/"
        },
        "id": "L3sO6z2tUEUQ",
        "outputId": "e6429193-d710-405a-fde4-a56b6eee1e24"
      },
      "source": [
        "p"
      ],
      "execution_count": null,
      "outputs": [
        {
          "output_type": "execute_result",
          "data": {
            "text/plain": [
              "6.388920047833723e-07"
            ]
          },
          "metadata": {},
          "execution_count": 73
        }
      ]
    },
    {
      "cell_type": "code",
      "metadata": {
        "colab": {
          "base_uri": "https://localhost:8080/"
        },
        "id": "YRjHYq6badnX",
        "outputId": "5297f95a-7395-4826-cf3e-d504126c60ee"
      },
      "source": [
        "from sklearn.metrics import brier_score_loss\n",
        "brier_score_loss(y_test, y_prob)"
      ],
      "execution_count": null,
      "outputs": [
        {
          "output_type": "execute_result",
          "data": {
            "text/plain": [
              "0.1210408801648304"
            ]
          },
          "metadata": {},
          "execution_count": 50
        }
      ]
    }
  ]
}